{
 "cells": [
  {
   "cell_type": "code",
   "execution_count": 1,
   "metadata": {
    "ExecuteTime": {
     "end_time": "2020-03-01T07:55:30.951387Z",
     "start_time": "2020-03-01T07:55:30.789395Z"
    }
   },
   "outputs": [],
   "source": [
    "import random\n",
    "import numpy as np\n",
    "import collections\n",
    "from game import Board, Game\n",
    "from players.scripts.player_test import PlayerTest\n",
    "from players.scripts.player_random import PlayerRandom\n",
    "from players.player import Player\n",
    "# from players.scripts.DSL import DSL\n",
    "import sys\n",
    "import uuid\n",
    "import inspect\n",
    "import copy\n",
    "import anytree\n",
    "from anytree import Node, RenderTree, PreOrderIter\n",
    "from anytree.exporter import DotExporter\n",
    "from enum import Enum\n",
    "import functools\n",
    "import tqdm\n",
    "from tqdm.notebook import tqdm as tqdm_nb"
   ]
  },
  {
   "cell_type": "code",
   "execution_count": 2,
   "metadata": {
    "ExecuteTime": {
     "end_time": "2020-03-01T07:55:30.979089Z",
     "start_time": "2020-03-01T07:55:30.971280Z"
    }
   },
   "outputs": [],
   "source": [
    "def tournament(player_1, player_2, num_games, switch=False):\n",
    "    p1_wins = 0\n",
    "    p2_wins = 0\n",
    "    \n",
    "    for _ in range(num_games):\n",
    "        game = Game(n_players=2, dice_number=4, dice_value=3, column_range=[2, 6],\n",
    "                    offset=2, initial_height=1)\n",
    "\n",
    "        is_over = False\n",
    "        who_won = None\n",
    "\n",
    "        number_of_moves = 0\n",
    "        current_player = game.player_turn\n",
    "        while not is_over:\n",
    "            moves = game.available_moves()\n",
    "            if game.is_player_busted(moves):\n",
    "                if current_player == 1:\n",
    "                    current_player = 2\n",
    "                else:\n",
    "                    current_player = 1\n",
    "                continue\n",
    "            else:\n",
    "                if game.player_turn == 1:\n",
    "                    chosen_play = player_1.get_action(game)\n",
    "                else:\n",
    "                    chosen_play = player_2.get_action(game)\n",
    "                if chosen_play == 'n':\n",
    "                    if current_player == 1:\n",
    "                        current_player = 2\n",
    "                    else:\n",
    "                        current_player = 1\n",
    "                game.play(chosen_play)\n",
    "                number_of_moves += 1\n",
    "\n",
    "            who_won, is_over = game.is_finished()\n",
    "\n",
    "            if number_of_moves >= 200:\n",
    "                is_over = True\n",
    "                who_won = -1\n",
    "\n",
    "        if who_won == 1:\n",
    "            p1_wins += 1\n",
    "        if who_won == 2:\n",
    "            p2_wins += 1\n",
    "    if switch:\n",
    "        p2_wins_2, p1_wins_2 = tournament(player_2, player_1, num_games, switch=False)\n",
    "        p1_wins += p1_wins_2\n",
    "        p2_wins += p2_wins_2\n",
    "    return p1_wins, p2_wins"
   ]
  },
  {
   "cell_type": "code",
   "execution_count": 3,
   "metadata": {
    "ExecuteTime": {
     "end_time": "2020-03-01T07:55:31.508228Z",
     "start_time": "2020-03-01T07:55:31.498113Z"
    }
   },
   "outputs": [],
   "source": [
    "def log_call(func):\n",
    "    @functools.wraps(func)\n",
    "    def _wrapper(*args):\n",
    "        self, id_, *rest = args\n",
    "        self.call_log.add(id_)\n",
    "        return func(*rest)\n",
    "    return _wrapper\n",
    "\n",
    "class Script(Player):\n",
    "    def __init__(self, tree):\n",
    "        super().__init__()\n",
    "        self.tree = tree\n",
    "        self.call_log = set()\n",
    "        \n",
    "    def reset_call_log(self):\n",
    "        self.call_log.clear()\n",
    "        \n",
    "    def get_action(self):\n",
    "        raise NotImplementedError\n",
    "        \n",
    "class Lib(object):\n",
    "    @log_call\n",
    "    def is_doubles(action):\n",
    "        if len(action) > 1 and action[0] == action[1]:\n",
    "            return True\n",
    "        else:\n",
    "            return False\n",
    "\n",
    "    @log_call\n",
    "    def contains_number(action, small_num):\n",
    "        if not isinstance(action, str):\n",
    "            if small_num in action:\n",
    "                return True\n",
    "        return False\n",
    "\n",
    "    @log_call\n",
    "    def action_wills_column(state, action):\n",
    "        copy_state = copy.deepcopy(state)\n",
    "        copy_state.play(action)\n",
    "        columns_won = copy_state.columns_won_current_round()\n",
    "        columns_won_previously = state.columns_won_current_round()\n",
    "        if len(columns_won) > 0 and columns_won != columns_won_previously:\n",
    "            return True\n",
    "        return False\n",
    "\n",
    "    @log_call\n",
    "    def number_positions_progressed_this_round(state, column_num):\n",
    "        return state.number_positions_conquered_this_round(column_num)\n",
    "\n",
    "    @log_call\n",
    "    def number_positions_conquered(state, column_num):\n",
    "        return state.number_positions_conquered(column_num)\n",
    "\n",
    "    @log_call\n",
    "    def has_won_column(state, action):\n",
    "        return len(state.columns_won_current_round()) > 0\n",
    "\n",
    "    @log_call\n",
    "    def is_stop_action(action):\n",
    "        if isinstance(action, str) and action == 'n':\n",
    "            return True\n",
    "        return False"
   ]
  },
  {
   "cell_type": "code",
   "execution_count": 4,
   "metadata": {
    "ExecuteTime": {
     "end_time": "2020-03-01T07:55:31.708160Z",
     "start_time": "2020-03-01T07:55:31.705129Z"
    }
   },
   "outputs": [],
   "source": [
    "default_enums = [\n",
    "    \"START\",\n",
    "    \"BLOCK\",\n",
    "    \"IF_BLOCK\",\n",
    "    \"IF_BODY\",\n",
    "    \"BOOL_EXP\",\n",
    "    \"AND_EXP\",\n",
    "    \"NOT_EXP\",\n",
    "    \"BOOL\",\n",
    "    \"RETURN\",\n",
    "    \"FUNC_CALL\",\n",
    "    \"COLUMN_NUM\",\n",
    "    \"SMALL_NUM\",\n",
    "]\n",
    "    \n",
    "lib_functions = inspect.getmembers(Lib, inspect.isfunction)"
   ]
  },
  {
   "cell_type": "code",
   "execution_count": 5,
   "metadata": {
    "ExecuteTime": {
     "end_time": "2020-03-01T07:55:32.038220Z",
     "start_time": "2020-03-01T07:55:32.034613Z"
    }
   },
   "outputs": [
    {
     "name": "stdout",
     "output_type": "stream",
     "text": [
      "[<Rule.START: 1>, <Rule.BLOCK: 2>, <Rule.IF_BLOCK: 3>, <Rule.IF_BODY: 4>, <Rule.BOOL_EXP: 5>, <Rule.AND_EXP: 6>, <Rule.NOT_EXP: 7>, <Rule.BOOL: 8>, <Rule.RETURN: 9>, <Rule.FUNC_CALL: 10>, <Rule.COLUMN_NUM: 11>, <Rule.SMALL_NUM: 12>, <Rule.ACTION_WILLS_COLUMN: 13>, <Rule.CONTAINS_NUMBER: 14>, <Rule.HAS_WON_COLUMN: 15>, <Rule.IS_DOUBLES: 16>, <Rule.IS_STOP_ACTION: 17>, <Rule.NUMBER_POSITIONS_CONQUERED: 18>, <Rule.NUMBER_POSITIONS_PROGRESSED_THIS_ROUND: 19>]\n"
     ]
    }
   ],
   "source": [
    "lib_func_names = [\n",
    "    name.upper()\n",
    "    for name, _ in lib_functions\n",
    "]\n",
    "\n",
    "Rule = Enum('Rule', default_enums + lib_func_names)\n",
    "\n",
    "print(list(Rule))"
   ]
  },
  {
   "cell_type": "code",
   "execution_count": 6,
   "metadata": {
    "ExecuteTime": {
     "end_time": "2020-03-01T07:55:32.285158Z",
     "start_time": "2020-03-01T07:55:32.282683Z"
    }
   },
   "outputs": [],
   "source": [
    "def get_func(name):\n",
    "    return dict(lib_functions)[name.lower()]"
   ]
  },
  {
   "cell_type": "code",
   "execution_count": 7,
   "metadata": {
    "ExecuteTime": {
     "end_time": "2020-03-01T07:55:32.544826Z",
     "start_time": "2020-03-01T07:55:32.542298Z"
    }
   },
   "outputs": [],
   "source": [
    "def get_params(f):\n",
    "    return list(inspect.signature(f).parameters)"
   ]
  },
  {
   "cell_type": "code",
   "execution_count": 8,
   "metadata": {
    "ExecuteTime": {
     "end_time": "2020-03-01T07:55:32.783293Z",
     "start_time": "2020-03-01T07:55:32.778515Z"
    }
   },
   "outputs": [],
   "source": [
    "def make_dynamic_rule(name):\n",
    "    func = get_func(name)\n",
    "    params = get_params(func)\n",
    "    def _convert(param):\n",
    "        if param == 'state':\n",
    "            return 'state'\n",
    "        elif param == 'action':\n",
    "            return 'a'\n",
    "        elif param == 'column_num':\n",
    "            return Rule.COLUMN_NUM\n",
    "        elif param == 'small_num':\n",
    "            return Rule.SMALL_NUM\n",
    "        elif param == 'self':\n",
    "            return 'self'\n",
    "        else:\n",
    "            raise ValueError\n",
    "    return ['Lib.' + name.lower(), *list(map(_convert, params))]"
   ]
  },
  {
   "cell_type": "code",
   "execution_count": 9,
   "metadata": {
    "ExecuteTime": {
     "end_time": "2020-03-01T07:55:33.016160Z",
     "start_time": "2020-03-01T07:55:33.009079Z"
    }
   },
   "outputs": [],
   "source": [
    "class Sampler(object):\n",
    "    pass\n",
    "\n",
    "class Diminishing(Sampler):\n",
    "    def __init__(self, gamma, rule):\n",
    "        self.gamma = gamma\n",
    "        self.rule = rule\n",
    "        \n",
    "    def sample(self):\n",
    "        ret = []\n",
    "        curr = 1\n",
    "        while random.random() <= curr:\n",
    "            ret.append(self.rule)\n",
    "            curr *= self.gamma\n",
    "        return ret\n",
    "    \n",
    "class Weighted(Sampler):\n",
    "    def __init__(self, dict_):\n",
    "        self.dict = dict_\n",
    "    \n",
    "    def sample(self):\n",
    "        weight_sum = sum(self.dict.keys())\n",
    "        normal_quoefficient = 1 / weight_sum\n",
    "        rand = random.random()\n",
    "        for weight, rule in self.dict.items():\n",
    "            prob = weight * normal_quoefficient\n",
    "            if rand <= prob:\n",
    "                if not isinstance(rule, list):\n",
    "                    rule = [rule]\n",
    "                return rule\n",
    "            else:\n",
    "                rand -= prob\n",
    "        raise ValueError"
   ]
  },
  {
   "cell_type": "code",
   "execution_count": 10,
   "metadata": {
    "ExecuteTime": {
     "end_time": "2020-03-01T07:55:33.375551Z",
     "start_time": "2020-03-01T07:55:33.360981Z"
    }
   },
   "outputs": [
    {
     "data": {
      "text/plain": [
       "{<Rule.START: 1>: (<Rule.BLOCK: 2>,),\n",
       " <Rule.BLOCK: 2>: (<__main__.Diminishing at 0x117718748>,),\n",
       " <Rule.IF_BLOCK: 3>: ([<Rule.BOOL_EXP: 5>, <Rule.IF_BODY: 4>],),\n",
       " <Rule.IF_BODY: 4>: [<__main__.Weighted at 0x117718780>],\n",
       " <Rule.BOOL_EXP: 5>: [<Rule.BOOL: 8>, <Rule.AND_EXP: 6>, <Rule.NOT_EXP: 7>],\n",
       " <Rule.AND_EXP: 6>: ([<Rule.BOOL: 8>, <Rule.BOOL: 8>],),\n",
       " <Rule.NOT_EXP: 7>: (<Rule.BOOL: 8>,),\n",
       " <Rule.BOOL: 8>: (<Rule.FUNC_CALL: 10>,),\n",
       " <Rule.FUNC_CALL: 10>: (['Lib.action_wills_column', 'state', 'a'],\n",
       "  ['Lib.contains_number', 'a', <Rule.SMALL_NUM: 12>],\n",
       "  ['Lib.has_won_column', 'state', 'a'],\n",
       "  ['Lib.is_doubles', 'a'],\n",
       "  ['Lib.is_stop_action', 'a'],\n",
       "  ['Lib.number_positions_conquered', 'state', <Rule.COLUMN_NUM: 11>],\n",
       "  ['Lib.number_positions_progressed_this_round',\n",
       "   'state',\n",
       "   <Rule.COLUMN_NUM: 11>]),\n",
       " <Rule.RETURN: 9>: ('return a',),\n",
       " <Rule.COLUMN_NUM: 11>: ('2', '3', '4', '5', '6'),\n",
       " <Rule.SMALL_NUM: 12>: ('0', '1', '2')}"
      ]
     },
     "execution_count": 10,
     "metadata": {},
     "output_type": "execute_result"
    }
   ],
   "source": [
    "grammar = {\n",
    "    Rule.START: (\n",
    "        Rule.BLOCK,\n",
    "    ),\n",
    "    Rule.BLOCK: (\n",
    "        Diminishing(0.3, Rule.IF_BLOCK),\n",
    "    ),\n",
    "    Rule.IF_BLOCK: (\n",
    "        [Rule.BOOL_EXP, Rule.IF_BODY],\n",
    "    ),\n",
    "    Rule.IF_BODY: [\n",
    "        Weighted({\n",
    "            7: Rule.RETURN,\n",
    "            3: [Rule.BLOCK, Rule.RETURN],\n",
    "        })\n",
    "    ],\n",
    "    Rule.BOOL_EXP: [\n",
    "        Rule.BOOL, \n",
    "        Rule.AND_EXP,\n",
    "        Rule.NOT_EXP,\n",
    "    ],\n",
    "    Rule.AND_EXP: (\n",
    "        [Rule.BOOL, Rule.BOOL],\n",
    "    ),\n",
    "    Rule.NOT_EXP: (\n",
    "        Rule.BOOL,\n",
    "    ),\n",
    "    Rule.BOOL: (\n",
    "        Rule.FUNC_CALL,\n",
    "    ),\n",
    "    Rule.FUNC_CALL: tuple(\n",
    "        make_dynamic_rule(name) for name in lib_func_names\n",
    "    ),\n",
    "    Rule.RETURN: (\n",
    "        \"return a\",\n",
    "    ),\n",
    "    Rule.COLUMN_NUM: (\n",
    "        '2', '3', '4', '5', '6'\n",
    "    ),\n",
    "    Rule.SMALL_NUM: (\n",
    "        '0', '1', '2'\n",
    "    )\n",
    "}\n",
    "grammar"
   ]
  },
  {
   "cell_type": "code",
   "execution_count": 23,
   "metadata": {
    "ExecuteTime": {
     "end_time": "2020-03-01T07:56:21.674210Z",
     "start_time": "2020-03-01T07:56:21.671655Z"
    }
   },
   "outputs": [],
   "source": [
    "def get_node_id():\n",
    "    return str(uuid.uuid4())[:8]"
   ]
  },
  {
   "cell_type": "code",
   "execution_count": 24,
   "metadata": {
    "ExecuteTime": {
     "end_time": "2020-03-01T07:56:22.208258Z",
     "start_time": "2020-03-01T07:56:22.202862Z"
    }
   },
   "outputs": [],
   "source": [
    "def generate_tree(root):\n",
    "    if isinstance(root.name, str):\n",
    "        return root\n",
    "    next_ = grammar.get(root.name, None)\n",
    "    if not next_:\n",
    "        return root\n",
    "    \n",
    "    branch = random.choice(next_)\n",
    "    \n",
    "    candidates = [] \n",
    "    if isinstance(branch, list):\n",
    "        candidates = branch\n",
    "    elif isinstance(branch, (Rule, str)):\n",
    "        candidates = [branch]\n",
    "    elif isinstance(branch, Sampler):\n",
    "        candidates.extend(branch.sample())\n",
    "    elif branch is None:\n",
    "        pass\n",
    "    else:\n",
    "        raise ValueError\n",
    "        \n",
    "    for cand in candidates:\n",
    "        child = Node(cand, parent=root, id_=get_node_id())\n",
    "        generate_tree(child)\n",
    "    return root"
   ]
  },
  {
   "cell_type": "code",
   "execution_count": 25,
   "metadata": {
    "ExecuteTime": {
     "end_time": "2020-03-01T07:56:22.591731Z",
     "start_time": "2020-03-01T07:56:22.587033Z"
    }
   },
   "outputs": [],
   "source": [
    "def get_random_tree(seed=None):\n",
    "    if seed:\n",
    "        random.seed(seed)\n",
    "    root = Node(Rule.START, id_=get_node_id())\n",
    "    tree = generate_tree(root)\n",
    "    return tree\n",
    "\n",
    "def print_tree(tree, call_log=None):\n",
    "    def _format_node(node):\n",
    "        return str(node.name) + (' (X) ' if node.id_ in call_log else '')\n",
    "\n",
    "    if not call_log:\n",
    "        print(RenderTree(script.tree).by_attr())\n",
    "    else:\n",
    "        print(RenderTree(script.tree).by_attr(_format_node))"
   ]
  },
  {
   "cell_type": "code",
   "execution_count": 26,
   "metadata": {
    "ExecuteTime": {
     "end_time": "2020-03-01T07:56:22.902836Z",
     "start_time": "2020-03-01T07:56:22.899530Z"
    }
   },
   "outputs": [],
   "source": [
    "def indent(raw, level):\n",
    "    tab = '    '\n",
    "    lines = raw.splitlines()\n",
    "    lines = [tab * level + line for line in lines]\n",
    "    return '\\n'.join(lines)"
   ]
  },
  {
   "cell_type": "code",
   "execution_count": 27,
   "metadata": {
    "ExecuteTime": {
     "end_time": "2020-03-01T07:56:23.142558Z",
     "start_time": "2020-03-01T07:56:23.134869Z"
    }
   },
   "outputs": [],
   "source": [
    "def render(node):\n",
    "    if isinstance(node.name, str):\n",
    "        return node.name\n",
    "    elif isinstance(node.name, Rule):\n",
    "        if node.name == Rule.IF_BLOCK:\n",
    "            template = \"if ({0}):\\n{1}\\n\"\n",
    "            bool_exp = render(node.children[0])\n",
    "            body = indent(render(node.children[1]), 1)\n",
    "            return template.format(bool_exp, body)\n",
    "        elif node.name == Rule.AND_EXP:\n",
    "            template = \"({0} and {1})\"\n",
    "            left = render(node.children[0])\n",
    "            right = render(node.children[1])\n",
    "            return template.format(left, right)\n",
    "        elif node.name == Rule.NOT_EXP:\n",
    "            template = \"not ({0})\"\n",
    "            op = render(node.children[0])\n",
    "            return template.format(op)\n",
    "        elif node.name == Rule.FUNC_CALL:\n",
    "            template = \"{0}({1})\"\n",
    "            func_name = render(node.children[0])\n",
    "            prefix = 'self, \"' + node.id_ + '\", '\n",
    "            other_params = ','.join([render(child) for child in node.children[1:]])\n",
    "            params = prefix + other_params\n",
    "            return template.format(func_name, params)\n",
    "        return ''.join(render(child) for child in node.children)"
   ]
  },
  {
   "cell_type": "code",
   "execution_count": 28,
   "metadata": {
    "ExecuteTime": {
     "end_time": "2020-03-01T07:56:23.454541Z",
     "start_time": "2020-03-01T07:56:23.451203Z"
    }
   },
   "outputs": [],
   "source": [
    "script_template = r\"\"\"\n",
    "\n",
    "class {0}(Script):\n",
    "    def get_action(self, state):\n",
    "        actions = state.available_moves()\n",
    "        for a in actions:\n",
    "{1}\n",
    "            pass\n",
    "        return actions[0]\n",
    "\"\"\"\n",
    "\n",
    "def render_script(node):\n",
    "    script_name = 'Script_' + str(uuid.uuid4()).replace('-', '')\n",
    "    code = indent(render(node), 3)\n",
    "    return script_name, script_template.format(script_name, code)"
   ]
  },
  {
   "cell_type": "code",
   "execution_count": 29,
   "metadata": {
    "ExecuteTime": {
     "end_time": "2020-03-01T07:56:23.774879Z",
     "start_time": "2020-03-01T07:56:23.771717Z"
    }
   },
   "outputs": [],
   "source": [
    "def exec_tree(tree):\n",
    "    script_name, raw_script = render_script(tree)\n",
    "    try:\n",
    "        exec(raw_script)\n",
    "    except Exception as e:\n",
    "        print(e)\n",
    "        print(raw_script)\n",
    "    script = eval(script_name)\n",
    "    return script(tree)"
   ]
  },
  {
   "cell_type": "code",
   "execution_count": 30,
   "metadata": {
    "ExecuteTime": {
     "end_time": "2020-03-01T07:56:24.054248Z",
     "start_time": "2020-03-01T07:56:24.050896Z"
    },
    "scrolled": false
   },
   "outputs": [],
   "source": [
    "def mutate(tree):\n",
    "#     tree = copy.deepcopy(tree)\n",
    "    all_ifs = anytree.search.findall(tree, filter_=lambda n: n.name == Rule.IF_BLOCK)\n",
    "    if all_ifs:\n",
    "        target_if = random.choice(all_ifs)\n",
    "        target_if.children = []\n",
    "        generate_tree(target_if)\n",
    "    return tree"
   ]
  },
  {
   "cell_type": "code",
   "execution_count": 31,
   "metadata": {
    "ExecuteTime": {
     "end_time": "2020-03-01T07:56:24.320975Z",
     "start_time": "2020-03-01T07:56:24.312201Z"
    },
    "scrolled": false
   },
   "outputs": [],
   "source": [
    "def crossover(left, right):\n",
    "    def _is_valid_subtree_head(node):\n",
    "        return node.name in [Rule.IF_BLOCK, Rule.BOOL_EXP]\n",
    "\n",
    "    def _find_head_types(root):\n",
    "        return [node.name for node in anytree.search.findall(root, filter_=_is_valid_subtree_head)]\n",
    "\n",
    "    def _select_type_node(root, type_):\n",
    "        candidates = anytree.search.findall(root, filter_=lambda node: node.name == type_)\n",
    "        return random.choice(candidates)\n",
    "    \n",
    "    def _swap_children(left, right):\n",
    "        left.children, right.children = right.children, left.children\n",
    "        \n",
    "    left = copy.deepcopy(left)\n",
    "    right = copy.deepcopy(right)\n",
    "\n",
    "    left_head_types = _find_head_types(left)\n",
    "    right_head_types = _find_head_types(right)\n",
    "\n",
    "    type_intersection = list(set(left_head_types + right_head_types))\n",
    "    if type_intersection:\n",
    "        type_to_swap = random.choice(type_intersection)\n",
    "        left_head = _select_type_node(left, type_to_swap)\n",
    "        right_head = _select_type_node(right, type_to_swap)\n",
    "        _swap_children(left_head, right_head)\n",
    "        return left, right"
   ]
  },
  {
   "cell_type": "code",
   "execution_count": 32,
   "metadata": {
    "ExecuteTime": {
     "end_time": "2020-03-01T07:56:24.777871Z",
     "start_time": "2020-03-01T07:56:24.771848Z"
    }
   },
   "outputs": [],
   "source": [
    "def bubble_up_call_log(script):\n",
    "    def _mark_up(node, call_log):\n",
    "        while node.parent:\n",
    "            if any(child.id_ in call_log for child in node.parent.children):\n",
    "                call_log.add(node.parent.id_)\n",
    "            node = node.parent\n",
    "\n",
    "    for marked in anytree.search.findall(script.tree, lambda node: node.id_ in script.call_log):\n",
    "        _mark_up(marked, script.call_log)\n",
    "\n",
    "def remove_unused_if_blocks(script):\n",
    "    def _unused_if_block(node, call_log):\n",
    "        return node.name == Rule.IF_BLOCK and node.id_ not in call_log\n",
    "\n",
    "    flag = False\n",
    "    for unused in PreOrderIter(script.tree, lambda node: _unused_if_block(node, script.call_log)):\n",
    "        unused.parent = None\n",
    "        flag = True\n",
    "    return flag"
   ]
  },
  {
   "cell_type": "code",
   "execution_count": 33,
   "metadata": {
    "ExecuteTime": {
     "end_time": "2020-03-01T07:56:25.320721Z",
     "start_time": "2020-03-01T07:56:25.316699Z"
    }
   },
   "outputs": [],
   "source": [
    "def eval_against_random(script, num_games=5):\n",
    "    player_random = PlayerRandom()\n",
    "    wins, _ = tournament(script, player_random, num_games, switch=True)\n",
    "    return wins  / (num_games * 2)\n",
    "\n",
    "def eval_population(population, num_games=5):\n",
    "    results = []\n",
    "    for script in population:\n",
    "        results.append(eval_against_random(script, num_games))\n",
    "    return np.mean(results)"
   ]
  },
  {
   "cell_type": "code",
   "execution_count": 34,
   "metadata": {
    "ExecuteTime": {
     "end_time": "2020-03-01T07:56:26.044368Z",
     "start_time": "2020-03-01T07:56:26.034452Z"
    },
    "scrolled": false
   },
   "outputs": [],
   "source": [
    "def run_ga(\n",
    "    epochs,\n",
    "    limit,\n",
    "    mutate_rate=0.5,\n",
    "#     evaluation_num_games=5,\n",
    "    selection_num_games=5,\n",
    "):\n",
    "    population = [exec_tree(get_random_tree()) for _ in range(limit)]\n",
    "\n",
    "#     results = []\n",
    "    generations = []\n",
    "    \n",
    "    for _ in tqdm_nb(range(epochs)):\n",
    "        \n",
    "        next_population = []\n",
    "        for i in range(0, len(population) - 1, 2):\n",
    "            lhs, rhs = population[i], population[i + 1]\n",
    "            lhs_wins, rhs_wins = tournament(lhs, rhs, selection_num_games, switch=True)\n",
    "            winner = [lhs, rhs][int(rhs_wins >= lhs_wins)]\n",
    "            next_population.append(winner)\n",
    "\n",
    "        for i, script in enumerate(next_population):\n",
    "            bubble_up_call_log(script)\n",
    "            removed = remove_unused_if_blocks(script)\n",
    "            if removed:\n",
    "                next_population[i] = exec_tree(script.tree)\n",
    "            else:\n",
    "                script.reset_call_log()\n",
    "\n",
    "        # mutation\n",
    "        to_mutate = [script for script in next_population if random.random() < mutate_rate]\n",
    "        for script in to_mutate:\n",
    "            mutated_tree = mutate(script.tree)\n",
    "            mutated_script = exec_tree(mutated_tree)\n",
    "            next_population.remove(script)\n",
    "            next_population.append(mutated_script)\n",
    "\n",
    "        # crossover\n",
    "        while len(next_population) < limit:\n",
    "            lhs, rhs = random.sample(next_population, k=2)\n",
    "            lhs_child, rhs_child = crossover(lhs.tree, rhs.tree)\n",
    "            for child in lhs_child, rhs_child:\n",
    "                child_script = exec_tree(child)\n",
    "                next_population.append(child_script)\n",
    "\n",
    "        random.shuffle(next_population)\n",
    "        population = next_population\n",
    "        \n",
    "#         results.append(eval_population(population, evaluation_num_games))\n",
    "        generations.append([copy.deepcopy(script) for script in population])\n",
    "    return generations"
   ]
  },
  {
   "cell_type": "code",
   "execution_count": 42,
   "metadata": {
    "ExecuteTime": {
     "end_time": "2020-03-01T08:02:12.287730Z",
     "start_time": "2020-03-01T08:00:52.171099Z"
    },
    "scrolled": false
   },
   "outputs": [
    {
     "data": {
      "application/vnd.jupyter.widget-view+json": {
       "model_id": "f6e36880e08f4d059ac3ebbdde62a63e",
       "version_major": 2,
       "version_minor": 0
      },
      "text/plain": [
       "HBox(children=(FloatProgress(value=0.0, max=10.0), HTML(value='')))"
      ]
     },
     "metadata": {},
     "output_type": "display_data"
    },
    {
     "name": "stdout",
     "output_type": "stream",
     "text": [
      "\n"
     ]
    }
   ],
   "source": [
    "generations = run_ga(\n",
    "    epochs=10,\n",
    "    limit=128,\n",
    ")"
   ]
  },
  {
   "cell_type": "code",
   "execution_count": 39,
   "metadata": {
    "ExecuteTime": {
     "end_time": "2020-03-01T07:57:00.498368Z",
     "start_time": "2020-03-01T07:56:57.519441Z"
    }
   },
   "outputs": [],
   "source": [
    "results = np.array([eval_population(gen, 1) for gen in generations])"
   ]
  },
  {
   "cell_type": "code",
   "execution_count": 40,
   "metadata": {
    "ExecuteTime": {
     "end_time": "2020-03-01T07:57:00.504206Z",
     "start_time": "2020-03-01T07:57:00.500354Z"
    }
   },
   "outputs": [],
   "source": [
    "from bokeh.plotting import figure, output_file, show\n",
    "from bokeh.io import output_notebook, output_file, reset_output"
   ]
  },
  {
   "cell_type": "code",
   "execution_count": 41,
   "metadata": {
    "ExecuteTime": {
     "end_time": "2020-03-01T07:57:00.552837Z",
     "start_time": "2020-03-01T07:57:00.507702Z"
    }
   },
   "outputs": [
    {
     "data": {
      "text/html": [
       "\n",
       "    <div class=\"bk-root\">\n",
       "        <a href=\"https://bokeh.org\" target=\"_blank\" class=\"bk-logo bk-logo-small bk-logo-notebook\"></a>\n",
       "        <span id=\"1002\">Loading BokehJS ...</span>\n",
       "    </div>"
      ]
     },
     "metadata": {},
     "output_type": "display_data"
    },
    {
     "data": {
      "application/javascript": [
       "\n",
       "(function(root) {\n",
       "  function now() {\n",
       "    return new Date();\n",
       "  }\n",
       "\n",
       "  var force = true;\n",
       "\n",
       "  if (typeof root._bokeh_onload_callbacks === \"undefined\" || force === true) {\n",
       "    root._bokeh_onload_callbacks = [];\n",
       "    root._bokeh_is_loading = undefined;\n",
       "  }\n",
       "\n",
       "  var JS_MIME_TYPE = 'application/javascript';\n",
       "  var HTML_MIME_TYPE = 'text/html';\n",
       "  var EXEC_MIME_TYPE = 'application/vnd.bokehjs_exec.v0+json';\n",
       "  var CLASS_NAME = 'output_bokeh rendered_html';\n",
       "\n",
       "  /**\n",
       "   * Render data to the DOM node\n",
       "   */\n",
       "  function render(props, node) {\n",
       "    var script = document.createElement(\"script\");\n",
       "    node.appendChild(script);\n",
       "  }\n",
       "\n",
       "  /**\n",
       "   * Handle when an output is cleared or removed\n",
       "   */\n",
       "  function handleClearOutput(event, handle) {\n",
       "    var cell = handle.cell;\n",
       "\n",
       "    var id = cell.output_area._bokeh_element_id;\n",
       "    var server_id = cell.output_area._bokeh_server_id;\n",
       "    // Clean up Bokeh references\n",
       "    if (id != null && id in Bokeh.index) {\n",
       "      Bokeh.index[id].model.document.clear();\n",
       "      delete Bokeh.index[id];\n",
       "    }\n",
       "\n",
       "    if (server_id !== undefined) {\n",
       "      // Clean up Bokeh references\n",
       "      var cmd = \"from bokeh.io.state import curstate; print(curstate().uuid_to_server['\" + server_id + \"'].get_sessions()[0].document.roots[0]._id)\";\n",
       "      cell.notebook.kernel.execute(cmd, {\n",
       "        iopub: {\n",
       "          output: function(msg) {\n",
       "            var id = msg.content.text.trim();\n",
       "            if (id in Bokeh.index) {\n",
       "              Bokeh.index[id].model.document.clear();\n",
       "              delete Bokeh.index[id];\n",
       "            }\n",
       "          }\n",
       "        }\n",
       "      });\n",
       "      // Destroy server and session\n",
       "      var cmd = \"import bokeh.io.notebook as ion; ion.destroy_server('\" + server_id + \"')\";\n",
       "      cell.notebook.kernel.execute(cmd);\n",
       "    }\n",
       "  }\n",
       "\n",
       "  /**\n",
       "   * Handle when a new output is added\n",
       "   */\n",
       "  function handleAddOutput(event, handle) {\n",
       "    var output_area = handle.output_area;\n",
       "    var output = handle.output;\n",
       "\n",
       "    // limit handleAddOutput to display_data with EXEC_MIME_TYPE content only\n",
       "    if ((output.output_type != \"display_data\") || (!output.data.hasOwnProperty(EXEC_MIME_TYPE))) {\n",
       "      return\n",
       "    }\n",
       "\n",
       "    var toinsert = output_area.element.find(\".\" + CLASS_NAME.split(' ')[0]);\n",
       "\n",
       "    if (output.metadata[EXEC_MIME_TYPE][\"id\"] !== undefined) {\n",
       "      toinsert[toinsert.length - 1].firstChild.textContent = output.data[JS_MIME_TYPE];\n",
       "      // store reference to embed id on output_area\n",
       "      output_area._bokeh_element_id = output.metadata[EXEC_MIME_TYPE][\"id\"];\n",
       "    }\n",
       "    if (output.metadata[EXEC_MIME_TYPE][\"server_id\"] !== undefined) {\n",
       "      var bk_div = document.createElement(\"div\");\n",
       "      bk_div.innerHTML = output.data[HTML_MIME_TYPE];\n",
       "      var script_attrs = bk_div.children[0].attributes;\n",
       "      for (var i = 0; i < script_attrs.length; i++) {\n",
       "        toinsert[toinsert.length - 1].firstChild.setAttribute(script_attrs[i].name, script_attrs[i].value);\n",
       "      }\n",
       "      // store reference to server id on output_area\n",
       "      output_area._bokeh_server_id = output.metadata[EXEC_MIME_TYPE][\"server_id\"];\n",
       "    }\n",
       "  }\n",
       "\n",
       "  function register_renderer(events, OutputArea) {\n",
       "\n",
       "    function append_mime(data, metadata, element) {\n",
       "      // create a DOM node to render to\n",
       "      var toinsert = this.create_output_subarea(\n",
       "        metadata,\n",
       "        CLASS_NAME,\n",
       "        EXEC_MIME_TYPE\n",
       "      );\n",
       "      this.keyboard_manager.register_events(toinsert);\n",
       "      // Render to node\n",
       "      var props = {data: data, metadata: metadata[EXEC_MIME_TYPE]};\n",
       "      render(props, toinsert[toinsert.length - 1]);\n",
       "      element.append(toinsert);\n",
       "      return toinsert\n",
       "    }\n",
       "\n",
       "    /* Handle when an output is cleared or removed */\n",
       "    events.on('clear_output.CodeCell', handleClearOutput);\n",
       "    events.on('delete.Cell', handleClearOutput);\n",
       "\n",
       "    /* Handle when a new output is added */\n",
       "    events.on('output_added.OutputArea', handleAddOutput);\n",
       "\n",
       "    /**\n",
       "     * Register the mime type and append_mime function with output_area\n",
       "     */\n",
       "    OutputArea.prototype.register_mime_type(EXEC_MIME_TYPE, append_mime, {\n",
       "      /* Is output safe? */\n",
       "      safe: true,\n",
       "      /* Index of renderer in `output_area.display_order` */\n",
       "      index: 0\n",
       "    });\n",
       "  }\n",
       "\n",
       "  // register the mime type if in Jupyter Notebook environment and previously unregistered\n",
       "  if (root.Jupyter !== undefined) {\n",
       "    var events = require('base/js/events');\n",
       "    var OutputArea = require('notebook/js/outputarea').OutputArea;\n",
       "\n",
       "    if (OutputArea.prototype.mime_types().indexOf(EXEC_MIME_TYPE) == -1) {\n",
       "      register_renderer(events, OutputArea);\n",
       "    }\n",
       "  }\n",
       "\n",
       "  \n",
       "  if (typeof (root._bokeh_timeout) === \"undefined\" || force === true) {\n",
       "    root._bokeh_timeout = Date.now() + 5000;\n",
       "    root._bokeh_failed_load = false;\n",
       "  }\n",
       "\n",
       "  var NB_LOAD_WARNING = {'data': {'text/html':\n",
       "     \"<div style='background-color: #fdd'>\\n\"+\n",
       "     \"<p>\\n\"+\n",
       "     \"BokehJS does not appear to have successfully loaded. If loading BokehJS from CDN, this \\n\"+\n",
       "     \"may be due to a slow or bad network connection. Possible fixes:\\n\"+\n",
       "     \"</p>\\n\"+\n",
       "     \"<ul>\\n\"+\n",
       "     \"<li>re-rerun `output_notebook()` to attempt to load from CDN again, or</li>\\n\"+\n",
       "     \"<li>use INLINE resources instead, as so:</li>\\n\"+\n",
       "     \"</ul>\\n\"+\n",
       "     \"<code>\\n\"+\n",
       "     \"from bokeh.resources import INLINE\\n\"+\n",
       "     \"output_notebook(resources=INLINE)\\n\"+\n",
       "     \"</code>\\n\"+\n",
       "     \"</div>\"}};\n",
       "\n",
       "  function display_loaded() {\n",
       "    var el = document.getElementById(\"1002\");\n",
       "    if (el != null) {\n",
       "      el.textContent = \"BokehJS is loading...\";\n",
       "    }\n",
       "    if (root.Bokeh !== undefined) {\n",
       "      if (el != null) {\n",
       "        el.textContent = \"BokehJS \" + root.Bokeh.version + \" successfully loaded.\";\n",
       "      }\n",
       "    } else if (Date.now() < root._bokeh_timeout) {\n",
       "      setTimeout(display_loaded, 100)\n",
       "    }\n",
       "  }\n",
       "\n",
       "\n",
       "  function run_callbacks() {\n",
       "    try {\n",
       "      root._bokeh_onload_callbacks.forEach(function(callback) {\n",
       "        if (callback != null)\n",
       "          callback();\n",
       "      });\n",
       "    } finally {\n",
       "      delete root._bokeh_onload_callbacks\n",
       "    }\n",
       "    console.debug(\"Bokeh: all callbacks have finished\");\n",
       "  }\n",
       "\n",
       "  function load_libs(css_urls, js_urls, callback) {\n",
       "    if (css_urls == null) css_urls = [];\n",
       "    if (js_urls == null) js_urls = [];\n",
       "\n",
       "    root._bokeh_onload_callbacks.push(callback);\n",
       "    if (root._bokeh_is_loading > 0) {\n",
       "      console.debug(\"Bokeh: BokehJS is being loaded, scheduling callback at\", now());\n",
       "      return null;\n",
       "    }\n",
       "    if (js_urls == null || js_urls.length === 0) {\n",
       "      run_callbacks();\n",
       "      return null;\n",
       "    }\n",
       "    console.debug(\"Bokeh: BokehJS not loaded, scheduling load and callback at\", now());\n",
       "    root._bokeh_is_loading = css_urls.length + js_urls.length;\n",
       "\n",
       "    function on_load() {\n",
       "      root._bokeh_is_loading--;\n",
       "      if (root._bokeh_is_loading === 0) {\n",
       "        console.debug(\"Bokeh: all BokehJS libraries/stylesheets loaded\");\n",
       "        run_callbacks()\n",
       "      }\n",
       "    }\n",
       "\n",
       "    function on_error() {\n",
       "      console.error(\"failed to load \" + url);\n",
       "    }\n",
       "\n",
       "    for (var i = 0; i < css_urls.length; i++) {\n",
       "      var url = css_urls[i];\n",
       "      const element = document.createElement(\"link\");\n",
       "      element.onload = on_load;\n",
       "      element.onerror = on_error;\n",
       "      element.rel = \"stylesheet\";\n",
       "      element.type = \"text/css\";\n",
       "      element.href = url;\n",
       "      console.debug(\"Bokeh: injecting link tag for BokehJS stylesheet: \", url);\n",
       "      document.body.appendChild(element);\n",
       "    }\n",
       "\n",
       "    for (var i = 0; i < js_urls.length; i++) {\n",
       "      var url = js_urls[i];\n",
       "      var element = document.createElement('script');\n",
       "      element.onload = on_load;\n",
       "      element.onerror = on_error;\n",
       "      element.async = false;\n",
       "      element.src = url;\n",
       "      console.debug(\"Bokeh: injecting script tag for BokehJS library: \", url);\n",
       "      document.head.appendChild(element);\n",
       "    }\n",
       "  };var element = document.getElementById(\"1002\");\n",
       "  if (element == null) {\n",
       "    console.error(\"Bokeh: ERROR: autoload.js configured with elementid '1002' but no matching script tag was found. \")\n",
       "    return false;\n",
       "  }\n",
       "\n",
       "  function inject_raw_css(css) {\n",
       "    const element = document.createElement(\"style\");\n",
       "    element.appendChild(document.createTextNode(css));\n",
       "    document.body.appendChild(element);\n",
       "  }\n",
       "\n",
       "  \n",
       "  var js_urls = [\"https://cdn.pydata.org/bokeh/release/bokeh-1.4.0.min.js\", \"https://cdn.pydata.org/bokeh/release/bokeh-widgets-1.4.0.min.js\", \"https://cdn.pydata.org/bokeh/release/bokeh-tables-1.4.0.min.js\", \"https://cdn.pydata.org/bokeh/release/bokeh-gl-1.4.0.min.js\"];\n",
       "  var css_urls = [];\n",
       "  \n",
       "\n",
       "  var inline_js = [\n",
       "    function(Bokeh) {\n",
       "      Bokeh.set_log_level(\"info\");\n",
       "    },\n",
       "    function(Bokeh) {\n",
       "    \n",
       "    \n",
       "    }\n",
       "  ];\n",
       "\n",
       "  function run_inline_js() {\n",
       "    \n",
       "    if (root.Bokeh !== undefined || force === true) {\n",
       "      \n",
       "    for (var i = 0; i < inline_js.length; i++) {\n",
       "      inline_js[i].call(root, root.Bokeh);\n",
       "    }\n",
       "    if (force === true) {\n",
       "        display_loaded();\n",
       "      }} else if (Date.now() < root._bokeh_timeout) {\n",
       "      setTimeout(run_inline_js, 100);\n",
       "    } else if (!root._bokeh_failed_load) {\n",
       "      console.log(\"Bokeh: BokehJS failed to load within specified timeout.\");\n",
       "      root._bokeh_failed_load = true;\n",
       "    } else if (force !== true) {\n",
       "      var cell = $(document.getElementById(\"1002\")).parents('.cell').data().cell;\n",
       "      cell.output_area.append_execute_result(NB_LOAD_WARNING)\n",
       "    }\n",
       "\n",
       "  }\n",
       "\n",
       "  if (root._bokeh_is_loading === 0) {\n",
       "    console.debug(\"Bokeh: BokehJS loaded, going straight to plotting\");\n",
       "    run_inline_js();\n",
       "  } else {\n",
       "    load_libs(css_urls, js_urls, function() {\n",
       "      console.debug(\"Bokeh: BokehJS plotting callback run at\", now());\n",
       "      run_inline_js();\n",
       "    });\n",
       "  }\n",
       "}(window));"
      ],
      "application/vnd.bokehjs_load.v0+json": "\n(function(root) {\n  function now() {\n    return new Date();\n  }\n\n  var force = true;\n\n  if (typeof root._bokeh_onload_callbacks === \"undefined\" || force === true) {\n    root._bokeh_onload_callbacks = [];\n    root._bokeh_is_loading = undefined;\n  }\n\n  \n\n  \n  if (typeof (root._bokeh_timeout) === \"undefined\" || force === true) {\n    root._bokeh_timeout = Date.now() + 5000;\n    root._bokeh_failed_load = false;\n  }\n\n  var NB_LOAD_WARNING = {'data': {'text/html':\n     \"<div style='background-color: #fdd'>\\n\"+\n     \"<p>\\n\"+\n     \"BokehJS does not appear to have successfully loaded. If loading BokehJS from CDN, this \\n\"+\n     \"may be due to a slow or bad network connection. Possible fixes:\\n\"+\n     \"</p>\\n\"+\n     \"<ul>\\n\"+\n     \"<li>re-rerun `output_notebook()` to attempt to load from CDN again, or</li>\\n\"+\n     \"<li>use INLINE resources instead, as so:</li>\\n\"+\n     \"</ul>\\n\"+\n     \"<code>\\n\"+\n     \"from bokeh.resources import INLINE\\n\"+\n     \"output_notebook(resources=INLINE)\\n\"+\n     \"</code>\\n\"+\n     \"</div>\"}};\n\n  function display_loaded() {\n    var el = document.getElementById(\"1002\");\n    if (el != null) {\n      el.textContent = \"BokehJS is loading...\";\n    }\n    if (root.Bokeh !== undefined) {\n      if (el != null) {\n        el.textContent = \"BokehJS \" + root.Bokeh.version + \" successfully loaded.\";\n      }\n    } else if (Date.now() < root._bokeh_timeout) {\n      setTimeout(display_loaded, 100)\n    }\n  }\n\n\n  function run_callbacks() {\n    try {\n      root._bokeh_onload_callbacks.forEach(function(callback) {\n        if (callback != null)\n          callback();\n      });\n    } finally {\n      delete root._bokeh_onload_callbacks\n    }\n    console.debug(\"Bokeh: all callbacks have finished\");\n  }\n\n  function load_libs(css_urls, js_urls, callback) {\n    if (css_urls == null) css_urls = [];\n    if (js_urls == null) js_urls = [];\n\n    root._bokeh_onload_callbacks.push(callback);\n    if (root._bokeh_is_loading > 0) {\n      console.debug(\"Bokeh: BokehJS is being loaded, scheduling callback at\", now());\n      return null;\n    }\n    if (js_urls == null || js_urls.length === 0) {\n      run_callbacks();\n      return null;\n    }\n    console.debug(\"Bokeh: BokehJS not loaded, scheduling load and callback at\", now());\n    root._bokeh_is_loading = css_urls.length + js_urls.length;\n\n    function on_load() {\n      root._bokeh_is_loading--;\n      if (root._bokeh_is_loading === 0) {\n        console.debug(\"Bokeh: all BokehJS libraries/stylesheets loaded\");\n        run_callbacks()\n      }\n    }\n\n    function on_error() {\n      console.error(\"failed to load \" + url);\n    }\n\n    for (var i = 0; i < css_urls.length; i++) {\n      var url = css_urls[i];\n      const element = document.createElement(\"link\");\n      element.onload = on_load;\n      element.onerror = on_error;\n      element.rel = \"stylesheet\";\n      element.type = \"text/css\";\n      element.href = url;\n      console.debug(\"Bokeh: injecting link tag for BokehJS stylesheet: \", url);\n      document.body.appendChild(element);\n    }\n\n    for (var i = 0; i < js_urls.length; i++) {\n      var url = js_urls[i];\n      var element = document.createElement('script');\n      element.onload = on_load;\n      element.onerror = on_error;\n      element.async = false;\n      element.src = url;\n      console.debug(\"Bokeh: injecting script tag for BokehJS library: \", url);\n      document.head.appendChild(element);\n    }\n  };var element = document.getElementById(\"1002\");\n  if (element == null) {\n    console.error(\"Bokeh: ERROR: autoload.js configured with elementid '1002' but no matching script tag was found. \")\n    return false;\n  }\n\n  function inject_raw_css(css) {\n    const element = document.createElement(\"style\");\n    element.appendChild(document.createTextNode(css));\n    document.body.appendChild(element);\n  }\n\n  \n  var js_urls = [\"https://cdn.pydata.org/bokeh/release/bokeh-1.4.0.min.js\", \"https://cdn.pydata.org/bokeh/release/bokeh-widgets-1.4.0.min.js\", \"https://cdn.pydata.org/bokeh/release/bokeh-tables-1.4.0.min.js\", \"https://cdn.pydata.org/bokeh/release/bokeh-gl-1.4.0.min.js\"];\n  var css_urls = [];\n  \n\n  var inline_js = [\n    function(Bokeh) {\n      Bokeh.set_log_level(\"info\");\n    },\n    function(Bokeh) {\n    \n    \n    }\n  ];\n\n  function run_inline_js() {\n    \n    if (root.Bokeh !== undefined || force === true) {\n      \n    for (var i = 0; i < inline_js.length; i++) {\n      inline_js[i].call(root, root.Bokeh);\n    }\n    if (force === true) {\n        display_loaded();\n      }} else if (Date.now() < root._bokeh_timeout) {\n      setTimeout(run_inline_js, 100);\n    } else if (!root._bokeh_failed_load) {\n      console.log(\"Bokeh: BokehJS failed to load within specified timeout.\");\n      root._bokeh_failed_load = true;\n    } else if (force !== true) {\n      var cell = $(document.getElementById(\"1002\")).parents('.cell').data().cell;\n      cell.output_area.append_execute_result(NB_LOAD_WARNING)\n    }\n\n  }\n\n  if (root._bokeh_is_loading === 0) {\n    console.debug(\"Bokeh: BokehJS loaded, going straight to plotting\");\n    run_inline_js();\n  } else {\n    load_libs(css_urls, js_urls, function() {\n      console.debug(\"Bokeh: BokehJS plotting callback run at\", now());\n      run_inline_js();\n    });\n  }\n}(window));"
     },
     "metadata": {},
     "output_type": "display_data"
    },
    {
     "data": {
      "text/html": [
       "\n",
       "\n",
       "\n",
       "\n",
       "\n",
       "\n",
       "  <div class=\"bk-root\" id=\"ebf75bb9-874d-479b-85e4-bb777a1cdd74\" data-root-id=\"1003\"></div>\n"
      ]
     },
     "metadata": {},
     "output_type": "display_data"
    },
    {
     "data": {
      "application/javascript": [
       "(function(root) {\n",
       "  function embed_document(root) {\n",
       "    \n",
       "  var docs_json = {\"a52517ce-b42b-4f6e-907f-1770d24ad1af\":{\"roots\":{\"references\":[{\"attributes\":{\"below\":[{\"id\":\"1014\",\"type\":\"LinearAxis\"}],\"center\":[{\"id\":\"1018\",\"type\":\"Grid\"},{\"id\":\"1023\",\"type\":\"Grid\"}],\"left\":[{\"id\":\"1019\",\"type\":\"LinearAxis\"}],\"renderers\":[{\"id\":\"1040\",\"type\":\"GlyphRenderer\"}],\"title\":{\"id\":\"1004\",\"type\":\"Title\"},\"toolbar\":{\"id\":\"1030\",\"type\":\"Toolbar\"},\"x_range\":{\"id\":\"1006\",\"type\":\"DataRange1d\"},\"x_scale\":{\"id\":\"1010\",\"type\":\"LinearScale\"},\"y_range\":{\"id\":\"1008\",\"type\":\"DataRange1d\"},\"y_scale\":{\"id\":\"1012\",\"type\":\"LinearScale\"}},\"id\":\"1003\",\"subtype\":\"Figure\",\"type\":\"Plot\"},{\"attributes\":{},\"id\":\"1029\",\"type\":\"HelpTool\"},{\"attributes\":{},\"id\":\"1020\",\"type\":\"BasicTicker\"},{\"attributes\":{\"active_drag\":\"auto\",\"active_inspect\":\"auto\",\"active_multi\":null,\"active_scroll\":\"auto\",\"active_tap\":\"auto\",\"tools\":[{\"id\":\"1024\",\"type\":\"PanTool\"},{\"id\":\"1025\",\"type\":\"WheelZoomTool\"},{\"id\":\"1026\",\"type\":\"BoxZoomTool\"},{\"id\":\"1027\",\"type\":\"SaveTool\"},{\"id\":\"1028\",\"type\":\"ResetTool\"},{\"id\":\"1029\",\"type\":\"HelpTool\"}]},\"id\":\"1030\",\"type\":\"Toolbar\"},{\"attributes\":{\"source\":{\"id\":\"1037\",\"type\":\"ColumnDataSource\"}},\"id\":\"1041\",\"type\":\"CDSView\"},{\"attributes\":{\"axis_label\":\"Win Rate\",\"formatter\":{\"id\":\"1044\",\"type\":\"BasicTickFormatter\"},\"ticker\":{\"id\":\"1020\",\"type\":\"BasicTicker\"}},\"id\":\"1019\",\"type\":\"LinearAxis\"},{\"attributes\":{},\"id\":\"1046\",\"type\":\"BasicTickFormatter\"},{\"attributes\":{},\"id\":\"1010\",\"type\":\"LinearScale\"},{\"attributes\":{\"dimension\":1,\"ticker\":{\"id\":\"1020\",\"type\":\"BasicTicker\"}},\"id\":\"1023\",\"type\":\"Grid\"},{\"attributes\":{\"bottom_units\":\"screen\",\"fill_alpha\":{\"value\":0.5},\"fill_color\":{\"value\":\"lightgrey\"},\"left_units\":\"screen\",\"level\":\"overlay\",\"line_alpha\":{\"value\":1.0},\"line_color\":{\"value\":\"black\"},\"line_dash\":[4,4],\"line_width\":{\"value\":2},\"render_mode\":\"css\",\"right_units\":\"screen\",\"top_units\":\"screen\"},\"id\":\"1047\",\"type\":\"BoxAnnotation\"},{\"attributes\":{},\"id\":\"1048\",\"type\":\"UnionRenderers\"},{\"attributes\":{\"axis_label\":\"generation\",\"formatter\":{\"id\":\"1046\",\"type\":\"BasicTickFormatter\"},\"ticker\":{\"id\":\"1015\",\"type\":\"BasicTicker\"}},\"id\":\"1014\",\"type\":\"LinearAxis\"},{\"attributes\":{},\"id\":\"1049\",\"type\":\"Selection\"},{\"attributes\":{\"callback\":null},\"id\":\"1008\",\"type\":\"DataRange1d\"},{\"attributes\":{},\"id\":\"1012\",\"type\":\"LinearScale\"},{\"attributes\":{},\"id\":\"1015\",\"type\":\"BasicTicker\"},{\"attributes\":{\"callback\":null},\"id\":\"1006\",\"type\":\"DataRange1d\"},{\"attributes\":{\"data_source\":{\"id\":\"1037\",\"type\":\"ColumnDataSource\"},\"glyph\":{\"id\":\"1038\",\"type\":\"Line\"},\"hover_glyph\":null,\"muted_glyph\":null,\"nonselection_glyph\":{\"id\":\"1039\",\"type\":\"Line\"},\"selection_glyph\":null,\"view\":{\"id\":\"1041\",\"type\":\"CDSView\"}},\"id\":\"1040\",\"type\":\"GlyphRenderer\"},{\"attributes\":{\"text\":\"Win Rate Against Random Agent Over Time\"},\"id\":\"1004\",\"type\":\"Title\"},{\"attributes\":{\"ticker\":{\"id\":\"1015\",\"type\":\"BasicTicker\"}},\"id\":\"1018\",\"type\":\"Grid\"},{\"attributes\":{\"callback\":null,\"data\":{\"x\":[0,1,2,3,4,5,6,7,8,9],\"y\":{\"__ndarray__\":\"AAAAAAAAsD8AAAAAAACwPwAAAAAAAMA/AAAAAAAAtD8AAAAAAACQPwAAAAAAAMI/AAAAAAAAwD8AAAAAAADAPwAAAAAAAMw/AAAAAAAAxD8=\",\"dtype\":\"float64\",\"shape\":[10]}},\"selected\":{\"id\":\"1049\",\"type\":\"Selection\"},\"selection_policy\":{\"id\":\"1048\",\"type\":\"UnionRenderers\"}},\"id\":\"1037\",\"type\":\"ColumnDataSource\"},{\"attributes\":{},\"id\":\"1044\",\"type\":\"BasicTickFormatter\"},{\"attributes\":{\"line_alpha\":0.1,\"line_color\":\"#1f77b4\",\"line_width\":2,\"x\":{\"field\":\"x\"},\"y\":{\"field\":\"y\"}},\"id\":\"1039\",\"type\":\"Line\"},{\"attributes\":{\"line_color\":\"#1f77b4\",\"line_width\":2,\"x\":{\"field\":\"x\"},\"y\":{\"field\":\"y\"}},\"id\":\"1038\",\"type\":\"Line\"},{\"attributes\":{},\"id\":\"1024\",\"type\":\"PanTool\"},{\"attributes\":{},\"id\":\"1025\",\"type\":\"WheelZoomTool\"},{\"attributes\":{\"overlay\":{\"id\":\"1047\",\"type\":\"BoxAnnotation\"}},\"id\":\"1026\",\"type\":\"BoxZoomTool\"},{\"attributes\":{},\"id\":\"1027\",\"type\":\"SaveTool\"},{\"attributes\":{},\"id\":\"1028\",\"type\":\"ResetTool\"}],\"root_ids\":[\"1003\"]},\"title\":\"Bokeh Application\",\"version\":\"1.4.0\"}};\n",
       "  var render_items = [{\"docid\":\"a52517ce-b42b-4f6e-907f-1770d24ad1af\",\"roots\":{\"1003\":\"ebf75bb9-874d-479b-85e4-bb777a1cdd74\"}}];\n",
       "  root.Bokeh.embed.embed_items_notebook(docs_json, render_items);\n",
       "\n",
       "  }\n",
       "  if (root.Bokeh !== undefined) {\n",
       "    embed_document(root);\n",
       "  } else {\n",
       "    var attempts = 0;\n",
       "    var timer = setInterval(function(root) {\n",
       "      if (root.Bokeh !== undefined) {\n",
       "        clearInterval(timer);\n",
       "        embed_document(root);\n",
       "      } else {\n",
       "        attempts++;\n",
       "        if (attempts > 100) {\n",
       "          clearInterval(timer);\n",
       "          console.log(\"Bokeh: ERROR: Unable to run BokehJS code because BokehJS library is missing\");\n",
       "        }\n",
       "      }\n",
       "    }, 10, root)\n",
       "  }\n",
       "})(window);"
      ],
      "application/vnd.bokehjs_exec.v0+json": ""
     },
     "metadata": {
      "application/vnd.bokehjs_exec.v0+json": {
       "id": "1003"
      }
     },
     "output_type": "display_data"
    }
   ],
   "source": [
    "reset_output()\n",
    "output_notebook()\n",
    "\n",
    "x = np.array(list(range(len(results))))\n",
    "y = results\n",
    "\n",
    "p = figure(\n",
    "    title=\"Win Rate Against Random Agent Over Time\",\n",
    "    x_axis_label='generation',\n",
    "    y_axis_label='Win Rate'\n",
    ")\n",
    "\n",
    "p.line(x, y, line_width=2)\n",
    "\n",
    "show(p)"
   ]
  },
  {
   "cell_type": "code",
   "execution_count": null,
   "metadata": {},
   "outputs": [],
   "source": [
    "i\n",
    "\n",
    "\n",
    "\n",
    "\n",
    "\n",
    "\n",
    "\n",
    "\n",
    "\n",
    "\n",
    "\n",
    "\n",
    "\n",
    "\n",
    "\n",
    "\n"
   ]
  }
 ],
 "metadata": {
  "hide_input": false,
  "kernelspec": {
   "display_name": "cmput_659_a1",
   "language": "python",
   "name": "cmput_659_a1"
  },
  "language_info": {
   "codemirror_mode": {
    "name": "ipython",
    "version": 3
   },
   "file_extension": ".py",
   "mimetype": "text/x-python",
   "name": "python",
   "nbconvert_exporter": "python",
   "pygments_lexer": "ipython3",
   "version": "3.7.0"
  },
  "toc": {
   "base_numbering": 1,
   "nav_menu": {},
   "number_sections": true,
   "sideBar": true,
   "skip_h1_title": false,
   "title_cell": "Table of Contents",
   "title_sidebar": "Contents",
   "toc_cell": false,
   "toc_position": {},
   "toc_section_display": true,
   "toc_window_display": false
  }
 },
 "nbformat": 4,
 "nbformat_minor": 4
}
