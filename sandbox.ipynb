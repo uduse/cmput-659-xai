{
 "cells": [
  {
   "cell_type": "code",
   "execution_count": 37,
   "metadata": {
    "ExecuteTime": {
     "end_time": "2020-03-01T19:06:44.647207Z",
     "start_time": "2020-03-01T19:06:44.643129Z"
    }
   },
   "outputs": [],
   "source": [
    "import random\n",
    "import numpy as np\n",
    "import collections\n",
    "from game import Board, Game\n",
    "# from players.scripts.player_test import PlayerTest\n",
    "from players.scripts.player_random import PlayerRandom\n",
    "# from players.player import Player\n",
    "# from players.scripts.DSL import DSL\n",
    "import sys\n",
    "import uuid\n",
    "import inspect\n",
    "import copy\n",
    "import anytree\n",
    "from anytree import Node, RenderTree, PreOrderIter\n",
    "from anytree.exporter import DotExporter\n",
    "from enum import Enum\n",
    "import functools\n",
    "import tqdm\n",
    "from tqdm.notebook import tqdm as tqdm_nb\n",
    "import itertools"
   ]
  },
  {
   "cell_type": "code",
   "execution_count": 38,
   "metadata": {
    "ExecuteTime": {
     "end_time": "2020-03-01T19:06:44.828233Z",
     "start_time": "2020-03-01T19:06:44.817923Z"
    }
   },
   "outputs": [],
   "source": [
    "def log_call(func):\n",
    "    @functools.wraps(func)\n",
    "    def _wrapper(*args):\n",
    "        self, id_, *rest = args\n",
    "        self.call_log.add(id_)\n",
    "        return func(*rest)\n",
    "    return _wrapper\n",
    "\n",
    "class Script(object):\n",
    "    def __init__(self, tree):\n",
    "        super().__init__()\n",
    "        self.tree = tree\n",
    "        self.call_log = set()\n",
    "        self.fitness = 0\n",
    "        \n",
    "    def reset(self):\n",
    "        self.call_log.clear()\n",
    "        \n",
    "    def get_action(self):\n",
    "        raise NotImplementedError\n",
    "        \n",
    "class Lib(object):\n",
    "    @log_call\n",
    "    def is_doubles(action):\n",
    "        if len(action) > 1 and action[0] == action[1]:\n",
    "            return True\n",
    "        else:\n",
    "            return False\n",
    "\n",
    "    @log_call\n",
    "    def contains_number(action, small_num):\n",
    "        if not isinstance(action, str):\n",
    "            if small_num in action:\n",
    "                return True\n",
    "        return False\n",
    "\n",
    "    @log_call\n",
    "    def action_wills_column(state, action):\n",
    "        copy_state = copy.deepcopy(state)\n",
    "        copy_state.play(action)\n",
    "        columns_won = copy_state.columns_won_current_round()\n",
    "        columns_won_previously = state.columns_won_current_round()\n",
    "        if len(columns_won) > 0 and columns_won != columns_won_previously:\n",
    "            return True\n",
    "        return False\n",
    "\n",
    "    @log_call\n",
    "    def number_positions_progressed_this_round(state, column_num):\n",
    "        return state.number_positions_conquered_this_round(column_num)\n",
    "\n",
    "    @log_call\n",
    "    def number_positions_conquered(state, column_num):\n",
    "        return state.number_positions_conquered(column_num)\n",
    "\n",
    "    @log_call\n",
    "    def has_won_column(state, action):\n",
    "        return len(state.columns_won_current_round()) > 0\n",
    "\n",
    "    @log_call\n",
    "    def is_stop_action(action):\n",
    "        if isinstance(action, str) and action == 'n':\n",
    "            return True\n",
    "        return False"
   ]
  },
  {
   "cell_type": "code",
   "execution_count": 39,
   "metadata": {
    "ExecuteTime": {
     "end_time": "2020-03-01T19:06:45.021870Z",
     "start_time": "2020-03-01T19:06:45.018699Z"
    }
   },
   "outputs": [],
   "source": [
    "default_enums = [\n",
    "    \"START\",\n",
    "    \"BLOCK\",\n",
    "    \"IF_BLOCK\",\n",
    "    \"IF_BODY\",\n",
    "    \"BOOL_EXP\",\n",
    "    \"AND_EXP\",\n",
    "    \"NOT_EXP\",\n",
    "    \"BOOL\",\n",
    "    \"RETURN\",\n",
    "    \"FUNC_CALL\",\n",
    "    \"COLUMN_NUM\",\n",
    "    \"SMALL_NUM\",\n",
    "]\n",
    "    \n",
    "lib_functions = inspect.getmembers(Lib, inspect.isfunction)"
   ]
  },
  {
   "cell_type": "code",
   "execution_count": 40,
   "metadata": {
    "ExecuteTime": {
     "end_time": "2020-03-01T19:06:45.207015Z",
     "start_time": "2020-03-01T19:06:45.203117Z"
    }
   },
   "outputs": [
    {
     "name": "stdout",
     "output_type": "stream",
     "text": [
      "[<Rule.START: 1>, <Rule.BLOCK: 2>, <Rule.IF_BLOCK: 3>, <Rule.IF_BODY: 4>, <Rule.BOOL_EXP: 5>, <Rule.AND_EXP: 6>, <Rule.NOT_EXP: 7>, <Rule.BOOL: 8>, <Rule.RETURN: 9>, <Rule.FUNC_CALL: 10>, <Rule.COLUMN_NUM: 11>, <Rule.SMALL_NUM: 12>, <Rule.ACTION_WILLS_COLUMN: 13>, <Rule.CONTAINS_NUMBER: 14>, <Rule.HAS_WON_COLUMN: 15>, <Rule.IS_DOUBLES: 16>, <Rule.IS_STOP_ACTION: 17>, <Rule.NUMBER_POSITIONS_CONQUERED: 18>, <Rule.NUMBER_POSITIONS_PROGRESSED_THIS_ROUND: 19>]\n"
     ]
    }
   ],
   "source": [
    "lib_func_names = [\n",
    "    name.upper()\n",
    "    for name, _ in lib_functions\n",
    "]\n",
    "\n",
    "Rule = Enum('Rule', default_enums + lib_func_names)\n",
    "\n",
    "print(list(Rule))"
   ]
  },
  {
   "cell_type": "code",
   "execution_count": 41,
   "metadata": {
    "ExecuteTime": {
     "end_time": "2020-03-01T19:06:45.493899Z",
     "start_time": "2020-03-01T19:06:45.491459Z"
    }
   },
   "outputs": [],
   "source": [
    "def get_func(name):\n",
    "    return dict(lib_functions)[name.lower()]"
   ]
  },
  {
   "cell_type": "code",
   "execution_count": 42,
   "metadata": {
    "ExecuteTime": {
     "end_time": "2020-03-01T19:06:45.685980Z",
     "start_time": "2020-03-01T19:06:45.683653Z"
    }
   },
   "outputs": [],
   "source": [
    "def get_params(f):\n",
    "    return list(inspect.signature(f).parameters)"
   ]
  },
  {
   "cell_type": "code",
   "execution_count": 43,
   "metadata": {
    "ExecuteTime": {
     "end_time": "2020-03-01T19:06:45.876501Z",
     "start_time": "2020-03-01T19:06:45.872115Z"
    }
   },
   "outputs": [],
   "source": [
    "def make_dynamic_rule(name):\n",
    "    func = get_func(name)\n",
    "    params = get_params(func)\n",
    "    def _convert(param):\n",
    "        if param == 'state':\n",
    "            return 'state'\n",
    "        elif param == 'action':\n",
    "            return 'a'\n",
    "        elif param == 'column_num':\n",
    "            return Rule.COLUMN_NUM\n",
    "        elif param == 'small_num':\n",
    "            return Rule.SMALL_NUM\n",
    "        elif param == 'self':\n",
    "            return 'self'\n",
    "        else:\n",
    "            raise ValueError\n",
    "    return ['Lib.' + name.lower(), *list(map(_convert, params))]"
   ]
  },
  {
   "cell_type": "code",
   "execution_count": 44,
   "metadata": {
    "ExecuteTime": {
     "end_time": "2020-03-01T19:06:46.058614Z",
     "start_time": "2020-03-01T19:06:46.051915Z"
    }
   },
   "outputs": [],
   "source": [
    "class Sampler(object):\n",
    "    pass\n",
    "\n",
    "class Diminishing(Sampler):\n",
    "    def __init__(self, gamma, rule):\n",
    "        self.gamma = gamma\n",
    "        self.rule = rule\n",
    "        \n",
    "    def sample(self):\n",
    "        ret = []\n",
    "        curr = 1\n",
    "        while random.random() <= curr:\n",
    "            ret.append(self.rule)\n",
    "            curr *= self.gamma\n",
    "        return ret\n",
    "    \n",
    "class Weighted(Sampler):\n",
    "    def __init__(self, dict_):\n",
    "        self.dict = dict_\n",
    "    \n",
    "    def sample(self):\n",
    "        weight_sum = sum(self.dict.keys())\n",
    "        normal_quoefficient = 1 / weight_sum\n",
    "        rand = random.random()\n",
    "        for weight, rule in self.dict.items():\n",
    "            prob = weight * normal_quoefficient\n",
    "            if rand <= prob:\n",
    "                if not isinstance(rule, list):\n",
    "                    rule = [rule]\n",
    "                return rule\n",
    "            else:\n",
    "                rand -= prob\n",
    "        raise ValueError"
   ]
  },
  {
   "cell_type": "code",
   "execution_count": 45,
   "metadata": {
    "ExecuteTime": {
     "end_time": "2020-03-01T19:06:46.265391Z",
     "start_time": "2020-03-01T19:06:46.254793Z"
    }
   },
   "outputs": [
    {
     "data": {
      "text/plain": [
       "{<Rule.START: 1>: (<Rule.BLOCK: 2>,),\n",
       " <Rule.BLOCK: 2>: (<__main__.Diminishing at 0x11d3dc128>,),\n",
       " <Rule.IF_BLOCK: 3>: ([<Rule.BOOL_EXP: 5>, <Rule.IF_BODY: 4>],),\n",
       " <Rule.IF_BODY: 4>: [<__main__.Weighted at 0x11d3dc470>],\n",
       " <Rule.BOOL_EXP: 5>: [<Rule.BOOL: 8>, <Rule.AND_EXP: 6>, <Rule.NOT_EXP: 7>],\n",
       " <Rule.AND_EXP: 6>: ([<Rule.BOOL: 8>, <Rule.BOOL: 8>],),\n",
       " <Rule.NOT_EXP: 7>: (<Rule.BOOL: 8>,),\n",
       " <Rule.BOOL: 8>: (<Rule.FUNC_CALL: 10>,),\n",
       " <Rule.FUNC_CALL: 10>: (['Lib.action_wills_column', 'state', 'a'],\n",
       "  ['Lib.contains_number', 'a', <Rule.SMALL_NUM: 12>],\n",
       "  ['Lib.has_won_column', 'state', 'a'],\n",
       "  ['Lib.is_doubles', 'a'],\n",
       "  ['Lib.is_stop_action', 'a'],\n",
       "  ['Lib.number_positions_conquered', 'state', <Rule.COLUMN_NUM: 11>],\n",
       "  ['Lib.number_positions_progressed_this_round',\n",
       "   'state',\n",
       "   <Rule.COLUMN_NUM: 11>]),\n",
       " <Rule.RETURN: 9>: ('return a',),\n",
       " <Rule.COLUMN_NUM: 11>: ('2', '3', '4', '5', '6'),\n",
       " <Rule.SMALL_NUM: 12>: ('0', '1', '2')}"
      ]
     },
     "execution_count": 45,
     "metadata": {},
     "output_type": "execute_result"
    }
   ],
   "source": [
    "grammar = {\n",
    "    Rule.START: (\n",
    "        Rule.BLOCK,\n",
    "    ),\n",
    "    Rule.BLOCK: (\n",
    "        Diminishing(0.5, Rule.IF_BLOCK),\n",
    "    ),\n",
    "    Rule.IF_BLOCK: (\n",
    "        [Rule.BOOL_EXP, Rule.IF_BODY],\n",
    "    ),\n",
    "    Rule.IF_BODY: [\n",
    "        Weighted({\n",
    "            7: Rule.RETURN,\n",
    "            3: [Rule.BLOCK, Rule.RETURN],\n",
    "        })\n",
    "    ],\n",
    "    Rule.BOOL_EXP: [\n",
    "        Rule.BOOL, \n",
    "        Rule.AND_EXP,\n",
    "        Rule.NOT_EXP,\n",
    "    ],\n",
    "    Rule.AND_EXP: (\n",
    "        [Rule.BOOL, Rule.BOOL],\n",
    "    ),\n",
    "    Rule.NOT_EXP: (\n",
    "        Rule.BOOL,\n",
    "    ),\n",
    "    Rule.BOOL: (\n",
    "        Rule.FUNC_CALL,\n",
    "    ),\n",
    "    Rule.FUNC_CALL: tuple(\n",
    "        make_dynamic_rule(name) for name in lib_func_names\n",
    "    ),\n",
    "    Rule.RETURN: (\n",
    "        \"return a\",\n",
    "    ),\n",
    "    Rule.COLUMN_NUM: (\n",
    "        '2', '3', '4', '5', '6'\n",
    "    ),\n",
    "    Rule.SMALL_NUM: (\n",
    "        '0', '1', '2'\n",
    "    )\n",
    "}\n",
    "grammar"
   ]
  },
  {
   "cell_type": "code",
   "execution_count": 46,
   "metadata": {
    "ExecuteTime": {
     "end_time": "2020-03-01T19:06:46.449648Z",
     "start_time": "2020-03-01T19:06:46.447166Z"
    }
   },
   "outputs": [],
   "source": [
    "def get_node_id():\n",
    "    return str(uuid.uuid4())[:8]"
   ]
  },
  {
   "cell_type": "code",
   "execution_count": 47,
   "metadata": {
    "ExecuteTime": {
     "end_time": "2020-03-01T19:06:46.898564Z",
     "start_time": "2020-03-01T19:06:46.892853Z"
    }
   },
   "outputs": [],
   "source": [
    "def generate_tree(root):\n",
    "    if isinstance(root.name, str):\n",
    "        return root\n",
    "    next_ = grammar.get(root.name, None)\n",
    "    if not next_:\n",
    "        return root\n",
    "    \n",
    "    branch = random.choice(next_)\n",
    "    \n",
    "    candidates = [] \n",
    "    if isinstance(branch, list):\n",
    "        candidates = branch\n",
    "    elif isinstance(branch, (Rule, str)):\n",
    "        candidates = [branch]\n",
    "    elif isinstance(branch, Sampler):\n",
    "        candidates.extend(branch.sample())\n",
    "    elif branch is None:\n",
    "        pass\n",
    "    else:\n",
    "        raise ValueError\n",
    "        \n",
    "    for cand in candidates:\n",
    "        child = Node(cand, parent=root, id_=get_node_id())\n",
    "        generate_tree(child)\n",
    "    return root"
   ]
  },
  {
   "cell_type": "code",
   "execution_count": 48,
   "metadata": {
    "ExecuteTime": {
     "end_time": "2020-03-01T19:06:47.107800Z",
     "start_time": "2020-03-01T19:06:47.103069Z"
    }
   },
   "outputs": [],
   "source": [
    "def get_random_tree(seed=None):\n",
    "    if seed:\n",
    "        random.seed(seed)\n",
    "    root = Node(Rule.START, id_=get_node_id())\n",
    "    tree = generate_tree(root)\n",
    "    return tree\n",
    "\n",
    "def print_tree(tree, call_log=None):\n",
    "    def _format_node(node):\n",
    "        return str(node.name) + (' (X) ' if node.id_ in call_log else '')\n",
    "\n",
    "    if not call_log:\n",
    "        print(RenderTree(tree).by_attr())\n",
    "    else:\n",
    "        print(RenderTree(tree).by_attr(_format_node))"
   ]
  },
  {
   "cell_type": "code",
   "execution_count": 49,
   "metadata": {
    "ExecuteTime": {
     "end_time": "2020-03-01T19:06:47.470785Z",
     "start_time": "2020-03-01T19:06:47.467872Z"
    }
   },
   "outputs": [],
   "source": [
    "def indent(raw, level):\n",
    "    tab = '    '\n",
    "    lines = raw.splitlines()\n",
    "    lines = [tab * level + line for line in lines]\n",
    "    return '\\n'.join(lines)"
   ]
  },
  {
   "cell_type": "code",
   "execution_count": 50,
   "metadata": {
    "ExecuteTime": {
     "end_time": "2020-03-01T19:06:47.762249Z",
     "start_time": "2020-03-01T19:06:47.754575Z"
    }
   },
   "outputs": [],
   "source": [
    "def render(node):\n",
    "    if isinstance(node.name, str):\n",
    "        return node.name\n",
    "    elif isinstance(node.name, Rule):\n",
    "        if node.name == Rule.IF_BLOCK:\n",
    "            template = \"if ({0}):\\n{1}\\n\"\n",
    "            bool_exp = render(node.children[0])\n",
    "            body = indent(render(node.children[1]), 1)\n",
    "            return template.format(bool_exp, body)\n",
    "        elif node.name == Rule.AND_EXP:\n",
    "            template = \"({0} and {1})\"\n",
    "            left = render(node.children[0])\n",
    "            right = render(node.children[1])\n",
    "            return template.format(left, right)\n",
    "        elif node.name == Rule.NOT_EXP:\n",
    "            template = \"not ({0})\"\n",
    "            op = render(node.children[0])\n",
    "            return template.format(op)\n",
    "        elif node.name == Rule.FUNC_CALL:\n",
    "            template = \"{0}({1})\"\n",
    "            func_name = render(node.children[0])\n",
    "            prefix = 'self, \"' + node.id_ + '\", '\n",
    "            other_params = ', '.join([render(child) for child in node.children[1:]])\n",
    "            params = prefix + other_params\n",
    "            return template.format(func_name, params)\n",
    "        return ''.join(render(child) for child in node.children)"
   ]
  },
  {
   "cell_type": "code",
   "execution_count": 51,
   "metadata": {
    "ExecuteTime": {
     "end_time": "2020-03-01T19:06:48.114557Z",
     "start_time": "2020-03-01T19:06:48.111174Z"
    }
   },
   "outputs": [],
   "source": [
    "script_template = r\"\"\"\n",
    "\n",
    "class {0}(Script):\n",
    "    def get_action(self, state):\n",
    "        actions = state.available_moves()\n",
    "        for a in actions:\n",
    "{1}\n",
    "            pass\n",
    "        return actions[0]\n",
    "\"\"\"\n",
    "\n",
    "def render_script(node):\n",
    "    script_name = 'Script_' + str(uuid.uuid4()).replace('-', '')\n",
    "    code = indent(render(node), 3)\n",
    "    return script_name, script_template.format(script_name, code)"
   ]
  },
  {
   "cell_type": "code",
   "execution_count": 52,
   "metadata": {
    "ExecuteTime": {
     "end_time": "2020-03-01T19:06:48.404991Z",
     "start_time": "2020-03-01T19:06:48.401628Z"
    }
   },
   "outputs": [],
   "source": [
    "def exec_tree(tree):\n",
    "    script_name, raw_script = render_script(tree)\n",
    "    try:\n",
    "        exec(raw_script)\n",
    "    except Exception as e:\n",
    "        print(e)\n",
    "        print(raw_script)\n",
    "    script = eval(script_name)\n",
    "    return script(tree)"
   ]
  },
  {
   "cell_type": "code",
   "execution_count": 89,
   "metadata": {
    "ExecuteTime": {
     "end_time": "2020-03-01T19:38:53.588062Z",
     "start_time": "2020-03-01T19:38:53.584808Z"
    },
    "scrolled": false
   },
   "outputs": [],
   "source": [
    "def mutate(tree):\n",
    "    tree = copy.deepcopy(tree)\n",
    "    candidates = anytree.search.findall(\n",
    "        tree, filter_=lambda n: n.height <= 7)\n",
    "    if candidates:\n",
    "        target_if = random.choice(candidates)\n",
    "        target_if.children = []\n",
    "        generate_tree(target_if)\n",
    "    return tree"
   ]
  },
  {
   "cell_type": "code",
   "execution_count": 90,
   "metadata": {
    "ExecuteTime": {
     "end_time": "2020-03-01T19:38:53.804414Z",
     "start_time": "2020-03-01T19:38:53.798549Z"
    },
    "scrolled": false
   },
   "outputs": [],
   "source": [
    "def crossover(left, right):\n",
    "    def _is_valid_subtree_head(node):\n",
    "        return node.name in [Rule.IF_BLOCK, Rule.BOOL_EXP]\n",
    "\n",
    "    def _find_head_types(root):\n",
    "        return [node.name for node in anytree.search.findall(root, filter_=_is_valid_subtree_head)]\n",
    "\n",
    "    def _select_type_node(root, type_):\n",
    "        candidates = anytree.search.findall(root, filter_=lambda node: node.name == type_)\n",
    "        return random.choice(candidates)\n",
    "    \n",
    "    def _swap_children(left, right):\n",
    "        left.children, right.children = right.children, left.children\n",
    "        \n",
    "    left = copy.deepcopy(left)\n",
    "    right = copy.deepcopy(right)\n",
    "\n",
    "    left_head_types = _find_head_types(left)\n",
    "    right_head_types = _find_head_types(right)\n",
    "\n",
    "    type_intersection = list(set(left_head_types) & set(right_head_types))\n",
    "    if type_intersection:\n",
    "        type_to_swap = random.choice(type_intersection)\n",
    "        left_head = _select_type_node(left, type_to_swap)\n",
    "        right_head = _select_type_node(right, type_to_swap)\n",
    "        _swap_children(left_head, right_head)\n",
    "    return left, right"
   ]
  },
  {
   "cell_type": "code",
   "execution_count": 91,
   "metadata": {
    "ExecuteTime": {
     "end_time": "2020-03-01T19:38:54.109288Z",
     "start_time": "2020-03-01T19:38:54.104369Z"
    }
   },
   "outputs": [],
   "source": [
    "def bubble_up_call_log(script):\n",
    "    def _mark_up(node, call_log):\n",
    "        while node.parent:\n",
    "            if any(child.id_ in call_log for child in node.parent.children):\n",
    "                call_log.add(node.parent.id_)\n",
    "            node = node.parent\n",
    "\n",
    "    for marked in anytree.search.findall(script.tree, lambda node: node.id_ in script.call_log):\n",
    "        _mark_up(marked, script.call_log)\n",
    "\n",
    "def remove_unused_if_blocks(script):\n",
    "    def _unused_if_block(node, call_log):\n",
    "        return node.name == Rule.IF_BLOCK and node.id_ not in call_log\n",
    "\n",
    "    flag = False\n",
    "    for unused in PreOrderIter(script.tree, lambda node: _unused_if_block(node, script.call_log)):\n",
    "        unused.parent = None\n",
    "        flag = True\n",
    "    return flag"
   ]
  },
  {
   "cell_type": "code",
   "execution_count": 92,
   "metadata": {
    "ExecuteTime": {
     "end_time": "2020-03-01T19:38:54.373934Z",
     "start_time": "2020-03-01T19:38:54.363978Z"
    }
   },
   "outputs": [],
   "source": [
    "def play_game(lhs, rhs):\n",
    "    game = Game(n_players=2, dice_number=4, dice_value=3, column_range=[2, 6],\n",
    "                offset=2, initial_height=1)\n",
    "    is_over = False\n",
    "    who_won = None\n",
    "\n",
    "    number_of_moves = 0\n",
    "    current_player = game.player_turn\n",
    "    while not is_over:\n",
    "        moves = game.available_moves()\n",
    "        if game.is_player_busted(moves):\n",
    "            if current_player == 1:\n",
    "                current_player = 2\n",
    "            else:\n",
    "                current_player = 1\n",
    "            continue\n",
    "        else:\n",
    "            if game.player_turn == 1:\n",
    "                chosen_play = lhs.get_action(game)\n",
    "            else:\n",
    "                chosen_play = rhs.get_action(game)\n",
    "            if chosen_play == 'n':\n",
    "                if current_player == 1:\n",
    "                    current_player = 2\n",
    "                else:\n",
    "                    current_player = 1\n",
    "            game.play(chosen_play)\n",
    "            number_of_moves += 1\n",
    "\n",
    "        who_won, is_over = game.is_finished()\n",
    "\n",
    "        if number_of_moves >= 200:\n",
    "            is_over = True\n",
    "            who_won = -1\n",
    "    return who_won\n",
    "\n",
    "def evaluate_pair(lhs, rhs, num_games=3):\n",
    "    for _ in range(num_games):\n",
    "        result = play_game(lhs, rhs)\n",
    "        if result == 1:\n",
    "            winner, losers = lhs, [rhs]\n",
    "        elif result == 2:\n",
    "            winner, losers = rhs, [lhs]\n",
    "        else:\n",
    "            winner, losers = None, [lhs, rhs]\n",
    "        if winner:\n",
    "            winner.fitness += 1\n",
    "        for loser in losers:\n",
    "            loser.fitness -= 1\n",
    "\n",
    "def evaluate_population(population, num_games=3):\n",
    "    for lhs, rhs in tqdm_nb(list(itertools.combinations(population, 2)),\n",
    "                            desc='Evaluating Population'):\n",
    "        evaluate_pair(lhs, rhs, num_games)\n",
    "        evaluate_pair(rhs, lhs, num_games)\n",
    "        \n",
    "def get_elites(population, limit=5):\n",
    "    return sorted(population, key=lambda script: script.fitness)[-limit:]\n",
    "\n",
    "def get_tournament_elites(population, limit=5):\n",
    "    return get_elites(random.sample(population, k=limit), limit=2)"
   ]
  },
  {
   "cell_type": "code",
   "execution_count": 93,
   "metadata": {
    "ExecuteTime": {
     "end_time": "2020-03-01T19:38:54.592533Z",
     "start_time": "2020-03-01T19:38:54.588889Z"
    }
   },
   "outputs": [],
   "source": [
    "# def eval_against_random(script, num_games=5):\n",
    "#     player_random = PlayerRandom()\n",
    "#     wins, _ = tournament(script, player_random, num_games, switch=True)\n",
    "#     return wins  / (num_games * 2)\n",
    "\n",
    "def eval_population_against_random(population, num_games=5):\n",
    "    player_random = PlayerRandom()\n",
    "    results = []\n",
    "    for script in population:\n",
    "        wins = 0\n",
    "        for _ in range(num_games):\n",
    "            wins += int(play_game(script, player_random) == 1)\n",
    "            wins += int(play_game(player_random, script) == 2)\n",
    "        win_rate = wins / (num_games * 2)\n",
    "        results.append(win_rate)\n",
    "#         results.append(eval_against_random(script, num_games))\n",
    "    return np.mean(results)"
   ]
  },
  {
   "cell_type": "code",
   "execution_count": 94,
   "metadata": {
    "ExecuteTime": {
     "end_time": "2020-03-01T19:38:55.303415Z",
     "start_time": "2020-03-01T19:38:55.296898Z"
    },
    "scrolled": false
   },
   "outputs": [],
   "source": [
    "def run_ga(\n",
    "    epochs,\n",
    "    limit,\n",
    "    num_elites=5,\n",
    "    mutate_rate=0.5,\n",
    "):\n",
    "    population = [exec_tree(get_random_tree()) for _ in range(limit)]\n",
    "\n",
    "    generations = []\n",
    "    \n",
    "    for _ in tqdm_nb(range(epochs)):\n",
    "        evaluate_population(population)\n",
    "        generations.append([copy.deepcopy(script) for script in population])\n",
    "        \n",
    "        next_population = []\n",
    "        next_population.extend(get_elites(population, num_elites))\n",
    "        \n",
    "        while len(next_population) < len(population):\n",
    "            mother, father = get_tournament_elites(population)\n",
    "            for child_tree in crossover(mother.tree, father.tree):\n",
    "                child = exec_tree(child_tree)\n",
    "                if random.random() < mutate_rate:\n",
    "                    child_tree = mutate(child.tree)\n",
    "                    child = exec_tree(child_tree)\n",
    "                next_population.append(child)\n",
    "        \n",
    "        # remove unused if blocks\n",
    "        for i, script in enumerate(next_population):\n",
    "            bubble_up_call_log(script)\n",
    "            removed = remove_unused_if_blocks(script)\n",
    "            if removed:\n",
    "                next_population[i] = exec_tree(script.tree)\n",
    "                \n",
    "        for script in next_population:\n",
    "            script.reset()\n",
    "                \n",
    "        population = next_population\n",
    "        \n",
    "    evaluate_population(population)\n",
    "    generations.append([copy.deepcopy(script) for script in population])\n",
    "    return generations"
   ]
  },
  {
   "cell_type": "code",
   "execution_count": 95,
   "metadata": {
    "ExecuteTime": {
     "end_time": "2020-03-01T19:58:07.050578Z",
     "start_time": "2020-03-01T19:38:55.598634Z"
    },
    "scrolled": true
   },
   "outputs": [
    {
     "data": {
      "application/vnd.jupyter.widget-view+json": {
       "model_id": "caf9a63699b04dbdbf47d853bc1b3404",
       "version_major": 2,
       "version_minor": 0
      },
      "text/plain": [
       "HBox(children=(FloatProgress(value=0.0), HTML(value='')))"
      ]
     },
     "metadata": {},
     "output_type": "display_data"
    },
    {
     "data": {
      "application/vnd.jupyter.widget-view+json": {
       "model_id": "914f1dc5868e47b7affe6eeaa9101d42",
       "version_major": 2,
       "version_minor": 0
      },
      "text/plain": [
       "HBox(children=(FloatProgress(value=0.0, description='Evaluating Population', max=120.0, style=ProgressStyle(de…"
      ]
     },
     "metadata": {},
     "output_type": "display_data"
    },
    {
     "name": "stdout",
     "output_type": "stream",
     "text": [
      "\n"
     ]
    },
    {
     "data": {
      "application/vnd.jupyter.widget-view+json": {
       "model_id": "d529851f04f34b329f329c5250f810ab",
       "version_major": 2,
       "version_minor": 0
      },
      "text/plain": [
       "HBox(children=(FloatProgress(value=0.0, description='Evaluating Population', max=136.0, style=ProgressStyle(de…"
      ]
     },
     "metadata": {},
     "output_type": "display_data"
    },
    {
     "name": "stdout",
     "output_type": "stream",
     "text": [
      "\n"
     ]
    },
    {
     "data": {
      "application/vnd.jupyter.widget-view+json": {
       "model_id": "ecf24099d241476095060678e1df146f",
       "version_major": 2,
       "version_minor": 0
      },
      "text/plain": [
       "HBox(children=(FloatProgress(value=0.0, description='Evaluating Population', max=136.0, style=ProgressStyle(de…"
      ]
     },
     "metadata": {},
     "output_type": "display_data"
    },
    {
     "name": "stdout",
     "output_type": "stream",
     "text": [
      "\n"
     ]
    },
    {
     "data": {
      "application/vnd.jupyter.widget-view+json": {
       "model_id": "312dc59b32ae47f6874f383086878363",
       "version_major": 2,
       "version_minor": 0
      },
      "text/plain": [
       "HBox(children=(FloatProgress(value=0.0, description='Evaluating Population', max=136.0, style=ProgressStyle(de…"
      ]
     },
     "metadata": {},
     "output_type": "display_data"
    },
    {
     "name": "stdout",
     "output_type": "stream",
     "text": [
      "\n"
     ]
    },
    {
     "data": {
      "application/vnd.jupyter.widget-view+json": {
       "model_id": "dd326227fdfb44029a19ac99ccb221fb",
       "version_major": 2,
       "version_minor": 0
      },
      "text/plain": [
       "HBox(children=(FloatProgress(value=0.0, description='Evaluating Population', max=136.0, style=ProgressStyle(de…"
      ]
     },
     "metadata": {},
     "output_type": "display_data"
    },
    {
     "name": "stdout",
     "output_type": "stream",
     "text": [
      "\n"
     ]
    },
    {
     "data": {
      "application/vnd.jupyter.widget-view+json": {
       "model_id": "833e6caf7471413ebc94d8ca9391173e",
       "version_major": 2,
       "version_minor": 0
      },
      "text/plain": [
       "HBox(children=(FloatProgress(value=0.0, description='Evaluating Population', max=136.0, style=ProgressStyle(de…"
      ]
     },
     "metadata": {},
     "output_type": "display_data"
    },
    {
     "name": "stdout",
     "output_type": "stream",
     "text": [
      "\n"
     ]
    },
    {
     "data": {
      "application/vnd.jupyter.widget-view+json": {
       "model_id": "53f53ef99578496ca5b0a93547953b09",
       "version_major": 2,
       "version_minor": 0
      },
      "text/plain": [
       "HBox(children=(FloatProgress(value=0.0, description='Evaluating Population', max=136.0, style=ProgressStyle(de…"
      ]
     },
     "metadata": {},
     "output_type": "display_data"
    },
    {
     "name": "stdout",
     "output_type": "stream",
     "text": [
      "\n"
     ]
    },
    {
     "data": {
      "application/vnd.jupyter.widget-view+json": {
       "model_id": "f29ef5f5d82f4445bdf7ca7310d65b46",
       "version_major": 2,
       "version_minor": 0
      },
      "text/plain": [
       "HBox(children=(FloatProgress(value=0.0, description='Evaluating Population', max=136.0, style=ProgressStyle(de…"
      ]
     },
     "metadata": {},
     "output_type": "display_data"
    },
    {
     "name": "stdout",
     "output_type": "stream",
     "text": [
      "\n"
     ]
    },
    {
     "data": {
      "application/vnd.jupyter.widget-view+json": {
       "model_id": "146c04f8950f4ee08b304c8ef2a89686",
       "version_major": 2,
       "version_minor": 0
      },
      "text/plain": [
       "HBox(children=(FloatProgress(value=0.0, description='Evaluating Population', max=136.0, style=ProgressStyle(de…"
      ]
     },
     "metadata": {},
     "output_type": "display_data"
    },
    {
     "name": "stdout",
     "output_type": "stream",
     "text": [
      "\n"
     ]
    },
    {
     "data": {
      "application/vnd.jupyter.widget-view+json": {
       "model_id": "06ec4b1c8cb64d788c4c5f4e64e176cf",
       "version_major": 2,
       "version_minor": 0
      },
      "text/plain": [
       "HBox(children=(FloatProgress(value=0.0, description='Evaluating Population', max=136.0, style=ProgressStyle(de…"
      ]
     },
     "metadata": {},
     "output_type": "display_data"
    },
    {
     "name": "stdout",
     "output_type": "stream",
     "text": [
      "\n"
     ]
    },
    {
     "data": {
      "application/vnd.jupyter.widget-view+json": {
       "model_id": "52397bd326e043d79825041a55c44981",
       "version_major": 2,
       "version_minor": 0
      },
      "text/plain": [
       "HBox(children=(FloatProgress(value=0.0, description='Evaluating Population', max=136.0, style=ProgressStyle(de…"
      ]
     },
     "metadata": {},
     "output_type": "display_data"
    },
    {
     "name": "stdout",
     "output_type": "stream",
     "text": [
      "\n"
     ]
    },
    {
     "data": {
      "application/vnd.jupyter.widget-view+json": {
       "model_id": "f1f811c2e0574f4cb8b26abc64eac723",
       "version_major": 2,
       "version_minor": 0
      },
      "text/plain": [
       "HBox(children=(FloatProgress(value=0.0, description='Evaluating Population', max=136.0, style=ProgressStyle(de…"
      ]
     },
     "metadata": {},
     "output_type": "display_data"
    },
    {
     "name": "stdout",
     "output_type": "stream",
     "text": [
      "\n"
     ]
    },
    {
     "data": {
      "application/vnd.jupyter.widget-view+json": {
       "model_id": "209e90ca91ca4d85bb6755938d74fbc0",
       "version_major": 2,
       "version_minor": 0
      },
      "text/plain": [
       "HBox(children=(FloatProgress(value=0.0, description='Evaluating Population', max=136.0, style=ProgressStyle(de…"
      ]
     },
     "metadata": {},
     "output_type": "display_data"
    },
    {
     "name": "stdout",
     "output_type": "stream",
     "text": [
      "\n"
     ]
    },
    {
     "data": {
      "application/vnd.jupyter.widget-view+json": {
       "model_id": "7af8d78a0d8a4cfea177da63c118d3eb",
       "version_major": 2,
       "version_minor": 0
      },
      "text/plain": [
       "HBox(children=(FloatProgress(value=0.0, description='Evaluating Population', max=136.0, style=ProgressStyle(de…"
      ]
     },
     "metadata": {},
     "output_type": "display_data"
    },
    {
     "name": "stdout",
     "output_type": "stream",
     "text": [
      "\n"
     ]
    },
    {
     "data": {
      "application/vnd.jupyter.widget-view+json": {
       "model_id": "ef274669de964f9fa583212c7172751c",
       "version_major": 2,
       "version_minor": 0
      },
      "text/plain": [
       "HBox(children=(FloatProgress(value=0.0, description='Evaluating Population', max=136.0, style=ProgressStyle(de…"
      ]
     },
     "metadata": {},
     "output_type": "display_data"
    },
    {
     "name": "stdout",
     "output_type": "stream",
     "text": [
      "\n"
     ]
    },
    {
     "data": {
      "application/vnd.jupyter.widget-view+json": {
       "model_id": "40de10796d6e4a51b30c91d47e39c7f9",
       "version_major": 2,
       "version_minor": 0
      },
      "text/plain": [
       "HBox(children=(FloatProgress(value=0.0, description='Evaluating Population', max=136.0, style=ProgressStyle(de…"
      ]
     },
     "metadata": {},
     "output_type": "display_data"
    },
    {
     "name": "stdout",
     "output_type": "stream",
     "text": [
      "\n"
     ]
    },
    {
     "data": {
      "application/vnd.jupyter.widget-view+json": {
       "model_id": "81df851538cc4f588298cf0045517efb",
       "version_major": 2,
       "version_minor": 0
      },
      "text/plain": [
       "HBox(children=(FloatProgress(value=0.0, description='Evaluating Population', max=136.0, style=ProgressStyle(de…"
      ]
     },
     "metadata": {},
     "output_type": "display_data"
    },
    {
     "name": "stdout",
     "output_type": "stream",
     "text": [
      "\n"
     ]
    },
    {
     "data": {
      "application/vnd.jupyter.widget-view+json": {
       "model_id": "779ccbb8a8c5415ca3eb60c3d59c334e",
       "version_major": 2,
       "version_minor": 0
      },
      "text/plain": [
       "HBox(children=(FloatProgress(value=0.0, description='Evaluating Population', max=136.0, style=ProgressStyle(de…"
      ]
     },
     "metadata": {},
     "output_type": "display_data"
    },
    {
     "name": "stdout",
     "output_type": "stream",
     "text": [
      "\n"
     ]
    },
    {
     "data": {
      "application/vnd.jupyter.widget-view+json": {
       "model_id": "143731e3790f4687b3d4e9babfb84d8e",
       "version_major": 2,
       "version_minor": 0
      },
      "text/plain": [
       "HBox(children=(FloatProgress(value=0.0, description='Evaluating Population', max=136.0, style=ProgressStyle(de…"
      ]
     },
     "metadata": {},
     "output_type": "display_data"
    },
    {
     "name": "stdout",
     "output_type": "stream",
     "text": [
      "\n"
     ]
    },
    {
     "data": {
      "application/vnd.jupyter.widget-view+json": {
       "model_id": "7616877c3f7d42a39d36dc52bd5b3d8a",
       "version_major": 2,
       "version_minor": 0
      },
      "text/plain": [
       "HBox(children=(FloatProgress(value=0.0, description='Evaluating Population', max=136.0, style=ProgressStyle(de…"
      ]
     },
     "metadata": {},
     "output_type": "display_data"
    },
    {
     "name": "stdout",
     "output_type": "stream",
     "text": [
      "\n"
     ]
    },
    {
     "data": {
      "application/vnd.jupyter.widget-view+json": {
       "model_id": "66f40e47cafb4e71a5310823d51196ba",
       "version_major": 2,
       "version_minor": 0
      },
      "text/plain": [
       "HBox(children=(FloatProgress(value=0.0, description='Evaluating Population', max=136.0, style=ProgressStyle(de…"
      ]
     },
     "metadata": {},
     "output_type": "display_data"
    },
    {
     "name": "stdout",
     "output_type": "stream",
     "text": [
      "\n"
     ]
    },
    {
     "data": {
      "application/vnd.jupyter.widget-view+json": {
       "model_id": "b997a4c0f529415fbf66d67eb4d1e980",
       "version_major": 2,
       "version_minor": 0
      },
      "text/plain": [
       "HBox(children=(FloatProgress(value=0.0, description='Evaluating Population', max=136.0, style=ProgressStyle(de…"
      ]
     },
     "metadata": {},
     "output_type": "display_data"
    },
    {
     "name": "stdout",
     "output_type": "stream",
     "text": [
      "\n"
     ]
    },
    {
     "data": {
      "application/vnd.jupyter.widget-view+json": {
       "model_id": "77f73050d23943029ee61646806701e4",
       "version_major": 2,
       "version_minor": 0
      },
      "text/plain": [
       "HBox(children=(FloatProgress(value=0.0, description='Evaluating Population', max=136.0, style=ProgressStyle(de…"
      ]
     },
     "metadata": {},
     "output_type": "display_data"
    },
    {
     "name": "stdout",
     "output_type": "stream",
     "text": [
      "\n"
     ]
    },
    {
     "data": {
      "application/vnd.jupyter.widget-view+json": {
       "model_id": "6a9b517d821846c3a9fcda7afa1a99ac",
       "version_major": 2,
       "version_minor": 0
      },
      "text/plain": [
       "HBox(children=(FloatProgress(value=0.0, description='Evaluating Population', max=136.0, style=ProgressStyle(de…"
      ]
     },
     "metadata": {},
     "output_type": "display_data"
    },
    {
     "name": "stdout",
     "output_type": "stream",
     "text": [
      "\n"
     ]
    },
    {
     "data": {
      "application/vnd.jupyter.widget-view+json": {
       "model_id": "8742b2193d7b4742ae686c279dd39294",
       "version_major": 2,
       "version_minor": 0
      },
      "text/plain": [
       "HBox(children=(FloatProgress(value=0.0, description='Evaluating Population', max=136.0, style=ProgressStyle(de…"
      ]
     },
     "metadata": {},
     "output_type": "display_data"
    },
    {
     "name": "stdout",
     "output_type": "stream",
     "text": [
      "\n"
     ]
    },
    {
     "data": {
      "application/vnd.jupyter.widget-view+json": {
       "model_id": "a12d5069dfd74abab202e34bd7b16485",
       "version_major": 2,
       "version_minor": 0
      },
      "text/plain": [
       "HBox(children=(FloatProgress(value=0.0, description='Evaluating Population', max=136.0, style=ProgressStyle(de…"
      ]
     },
     "metadata": {},
     "output_type": "display_data"
    },
    {
     "name": "stdout",
     "output_type": "stream",
     "text": [
      "\n"
     ]
    },
    {
     "data": {
      "application/vnd.jupyter.widget-view+json": {
       "model_id": "2cc0115bf27d49829f7fe9002c7b5923",
       "version_major": 2,
       "version_minor": 0
      },
      "text/plain": [
       "HBox(children=(FloatProgress(value=0.0, description='Evaluating Population', max=136.0, style=ProgressStyle(de…"
      ]
     },
     "metadata": {},
     "output_type": "display_data"
    },
    {
     "name": "stdout",
     "output_type": "stream",
     "text": [
      "\n"
     ]
    },
    {
     "data": {
      "application/vnd.jupyter.widget-view+json": {
       "model_id": "95c4ff85a71b4173ba4ef202d273530e",
       "version_major": 2,
       "version_minor": 0
      },
      "text/plain": [
       "HBox(children=(FloatProgress(value=0.0, description='Evaluating Population', max=136.0, style=ProgressStyle(de…"
      ]
     },
     "metadata": {},
     "output_type": "display_data"
    },
    {
     "name": "stdout",
     "output_type": "stream",
     "text": [
      "\n"
     ]
    },
    {
     "data": {
      "application/vnd.jupyter.widget-view+json": {
       "model_id": "e2734c5ced1445a091696896b9b578e5",
       "version_major": 2,
       "version_minor": 0
      },
      "text/plain": [
       "HBox(children=(FloatProgress(value=0.0, description='Evaluating Population', max=136.0, style=ProgressStyle(de…"
      ]
     },
     "metadata": {},
     "output_type": "display_data"
    },
    {
     "name": "stdout",
     "output_type": "stream",
     "text": [
      "\n"
     ]
    },
    {
     "data": {
      "application/vnd.jupyter.widget-view+json": {
       "model_id": "968bc45e307e43729e8e52df8a7bcb85",
       "version_major": 2,
       "version_minor": 0
      },
      "text/plain": [
       "HBox(children=(FloatProgress(value=0.0, description='Evaluating Population', max=136.0, style=ProgressStyle(de…"
      ]
     },
     "metadata": {},
     "output_type": "display_data"
    },
    {
     "name": "stdout",
     "output_type": "stream",
     "text": [
      "\n"
     ]
    },
    {
     "data": {
      "application/vnd.jupyter.widget-view+json": {
       "model_id": "793eacfce1c040829ace5fe3e6cd2bc3",
       "version_major": 2,
       "version_minor": 0
      },
      "text/plain": [
       "HBox(children=(FloatProgress(value=0.0, description='Evaluating Population', max=136.0, style=ProgressStyle(de…"
      ]
     },
     "metadata": {},
     "output_type": "display_data"
    },
    {
     "name": "stdout",
     "output_type": "stream",
     "text": [
      "\n"
     ]
    },
    {
     "data": {
      "application/vnd.jupyter.widget-view+json": {
       "model_id": "378cfa17168240538f71d16f9a3bb94d",
       "version_major": 2,
       "version_minor": 0
      },
      "text/plain": [
       "HBox(children=(FloatProgress(value=0.0, description='Evaluating Population', max=136.0, style=ProgressStyle(de…"
      ]
     },
     "metadata": {},
     "output_type": "display_data"
    },
    {
     "name": "stdout",
     "output_type": "stream",
     "text": [
      "\n"
     ]
    },
    {
     "data": {
      "application/vnd.jupyter.widget-view+json": {
       "model_id": "2bbf105b944a4155bf04f8a01acc6497",
       "version_major": 2,
       "version_minor": 0
      },
      "text/plain": [
       "HBox(children=(FloatProgress(value=0.0, description='Evaluating Population', max=136.0, style=ProgressStyle(de…"
      ]
     },
     "metadata": {},
     "output_type": "display_data"
    },
    {
     "name": "stdout",
     "output_type": "stream",
     "text": [
      "\n"
     ]
    },
    {
     "data": {
      "application/vnd.jupyter.widget-view+json": {
       "model_id": "a923762d55c4471097bb435ef6acc8e8",
       "version_major": 2,
       "version_minor": 0
      },
      "text/plain": [
       "HBox(children=(FloatProgress(value=0.0, description='Evaluating Population', max=136.0, style=ProgressStyle(de…"
      ]
     },
     "metadata": {},
     "output_type": "display_data"
    },
    {
     "name": "stdout",
     "output_type": "stream",
     "text": [
      "\n"
     ]
    },
    {
     "data": {
      "application/vnd.jupyter.widget-view+json": {
       "model_id": "19e08a1b9a714186a7eb244feb723789",
       "version_major": 2,
       "version_minor": 0
      },
      "text/plain": [
       "HBox(children=(FloatProgress(value=0.0, description='Evaluating Population', max=136.0, style=ProgressStyle(de…"
      ]
     },
     "metadata": {},
     "output_type": "display_data"
    },
    {
     "name": "stdout",
     "output_type": "stream",
     "text": [
      "\n"
     ]
    },
    {
     "data": {
      "application/vnd.jupyter.widget-view+json": {
       "model_id": "01e374d8108040adac1d0f2ebca78cef",
       "version_major": 2,
       "version_minor": 0
      },
      "text/plain": [
       "HBox(children=(FloatProgress(value=0.0, description='Evaluating Population', max=136.0, style=ProgressStyle(de…"
      ]
     },
     "metadata": {},
     "output_type": "display_data"
    },
    {
     "name": "stdout",
     "output_type": "stream",
     "text": [
      "\n"
     ]
    },
    {
     "data": {
      "application/vnd.jupyter.widget-view+json": {
       "model_id": "16e771e3970346c6accc2a266a21dfc0",
       "version_major": 2,
       "version_minor": 0
      },
      "text/plain": [
       "HBox(children=(FloatProgress(value=0.0, description='Evaluating Population', max=136.0, style=ProgressStyle(de…"
      ]
     },
     "metadata": {},
     "output_type": "display_data"
    },
    {
     "name": "stdout",
     "output_type": "stream",
     "text": [
      "\n"
     ]
    },
    {
     "data": {
      "application/vnd.jupyter.widget-view+json": {
       "model_id": "64d186f8beea4adca802df1853d35ac5",
       "version_major": 2,
       "version_minor": 0
      },
      "text/plain": [
       "HBox(children=(FloatProgress(value=0.0, description='Evaluating Population', max=136.0, style=ProgressStyle(de…"
      ]
     },
     "metadata": {},
     "output_type": "display_data"
    },
    {
     "name": "stdout",
     "output_type": "stream",
     "text": [
      "\n"
     ]
    },
    {
     "data": {
      "application/vnd.jupyter.widget-view+json": {
       "model_id": "78e629df7e924aa79f4417046776c6c4",
       "version_major": 2,
       "version_minor": 0
      },
      "text/plain": [
       "HBox(children=(FloatProgress(value=0.0, description='Evaluating Population', max=136.0, style=ProgressStyle(de…"
      ]
     },
     "metadata": {},
     "output_type": "display_data"
    },
    {
     "name": "stdout",
     "output_type": "stream",
     "text": [
      "\n"
     ]
    },
    {
     "data": {
      "application/vnd.jupyter.widget-view+json": {
       "model_id": "a128c4dd2eee4ce7b2190fc2630e2bca",
       "version_major": 2,
       "version_minor": 0
      },
      "text/plain": [
       "HBox(children=(FloatProgress(value=0.0, description='Evaluating Population', max=136.0, style=ProgressStyle(de…"
      ]
     },
     "metadata": {},
     "output_type": "display_data"
    },
    {
     "name": "stdout",
     "output_type": "stream",
     "text": [
      "\n"
     ]
    },
    {
     "data": {
      "application/vnd.jupyter.widget-view+json": {
       "model_id": "123b0349542b48c4a463e63bb6119c53",
       "version_major": 2,
       "version_minor": 0
      },
      "text/plain": [
       "HBox(children=(FloatProgress(value=0.0, description='Evaluating Population', max=136.0, style=ProgressStyle(de…"
      ]
     },
     "metadata": {},
     "output_type": "display_data"
    },
    {
     "name": "stdout",
     "output_type": "stream",
     "text": [
      "\n"
     ]
    },
    {
     "data": {
      "application/vnd.jupyter.widget-view+json": {
       "model_id": "d76d608e5d574f5db22b9d8c46d49351",
       "version_major": 2,
       "version_minor": 0
      },
      "text/plain": [
       "HBox(children=(FloatProgress(value=0.0, description='Evaluating Population', max=136.0, style=ProgressStyle(de…"
      ]
     },
     "metadata": {},
     "output_type": "display_data"
    },
    {
     "name": "stdout",
     "output_type": "stream",
     "text": [
      "\n"
     ]
    },
    {
     "data": {
      "application/vnd.jupyter.widget-view+json": {
       "model_id": "cf940f371db64b9e8c1e91b24b37bc36",
       "version_major": 2,
       "version_minor": 0
      },
      "text/plain": [
       "HBox(children=(FloatProgress(value=0.0, description='Evaluating Population', max=136.0, style=ProgressStyle(de…"
      ]
     },
     "metadata": {},
     "output_type": "display_data"
    },
    {
     "name": "stdout",
     "output_type": "stream",
     "text": [
      "\n"
     ]
    },
    {
     "data": {
      "application/vnd.jupyter.widget-view+json": {
       "model_id": "e5b0f691ac354439b6438dc8590c2ff4",
       "version_major": 2,
       "version_minor": 0
      },
      "text/plain": [
       "HBox(children=(FloatProgress(value=0.0, description='Evaluating Population', max=136.0, style=ProgressStyle(de…"
      ]
     },
     "metadata": {},
     "output_type": "display_data"
    },
    {
     "name": "stdout",
     "output_type": "stream",
     "text": [
      "\n"
     ]
    },
    {
     "data": {
      "application/vnd.jupyter.widget-view+json": {
       "model_id": "8f004b100e2f46f5a8449efe62456421",
       "version_major": 2,
       "version_minor": 0
      },
      "text/plain": [
       "HBox(children=(FloatProgress(value=0.0, description='Evaluating Population', max=136.0, style=ProgressStyle(de…"
      ]
     },
     "metadata": {},
     "output_type": "display_data"
    },
    {
     "name": "stdout",
     "output_type": "stream",
     "text": [
      "\n"
     ]
    },
    {
     "data": {
      "application/vnd.jupyter.widget-view+json": {
       "model_id": "187b61cb29354093bcf8736e3bff0aca",
       "version_major": 2,
       "version_minor": 0
      },
      "text/plain": [
       "HBox(children=(FloatProgress(value=0.0, description='Evaluating Population', max=136.0, style=ProgressStyle(de…"
      ]
     },
     "metadata": {},
     "output_type": "display_data"
    },
    {
     "name": "stdout",
     "output_type": "stream",
     "text": [
      "\n"
     ]
    },
    {
     "data": {
      "application/vnd.jupyter.widget-view+json": {
       "model_id": "c047ebb0cd944e4ab8c8d79afdc91ffc",
       "version_major": 2,
       "version_minor": 0
      },
      "text/plain": [
       "HBox(children=(FloatProgress(value=0.0, description='Evaluating Population', max=136.0, style=ProgressStyle(de…"
      ]
     },
     "metadata": {},
     "output_type": "display_data"
    },
    {
     "name": "stdout",
     "output_type": "stream",
     "text": [
      "\n"
     ]
    },
    {
     "data": {
      "application/vnd.jupyter.widget-view+json": {
       "model_id": "ed054aa534454676b57c8580734ccbb3",
       "version_major": 2,
       "version_minor": 0
      },
      "text/plain": [
       "HBox(children=(FloatProgress(value=0.0, description='Evaluating Population', max=136.0, style=ProgressStyle(de…"
      ]
     },
     "metadata": {},
     "output_type": "display_data"
    },
    {
     "name": "stdout",
     "output_type": "stream",
     "text": [
      "\n"
     ]
    },
    {
     "data": {
      "application/vnd.jupyter.widget-view+json": {
       "model_id": "adcf75b3d227473886bbccb412badaf6",
       "version_major": 2,
       "version_minor": 0
      },
      "text/plain": [
       "HBox(children=(FloatProgress(value=0.0, description='Evaluating Population', max=136.0, style=ProgressStyle(de…"
      ]
     },
     "metadata": {},
     "output_type": "display_data"
    },
    {
     "name": "stdout",
     "output_type": "stream",
     "text": [
      "\n"
     ]
    },
    {
     "data": {
      "application/vnd.jupyter.widget-view+json": {
       "model_id": "2b5136adab7b4daa8006cd18697f4ade",
       "version_major": 2,
       "version_minor": 0
      },
      "text/plain": [
       "HBox(children=(FloatProgress(value=0.0, description='Evaluating Population', max=136.0, style=ProgressStyle(de…"
      ]
     },
     "metadata": {},
     "output_type": "display_data"
    },
    {
     "name": "stdout",
     "output_type": "stream",
     "text": [
      "\n"
     ]
    },
    {
     "data": {
      "application/vnd.jupyter.widget-view+json": {
       "model_id": "c2c66c9e3eb44dbe901e114eecf3431b",
       "version_major": 2,
       "version_minor": 0
      },
      "text/plain": [
       "HBox(children=(FloatProgress(value=0.0, description='Evaluating Population', max=136.0, style=ProgressStyle(de…"
      ]
     },
     "metadata": {},
     "output_type": "display_data"
    },
    {
     "name": "stdout",
     "output_type": "stream",
     "text": [
      "\n"
     ]
    },
    {
     "data": {
      "application/vnd.jupyter.widget-view+json": {
       "model_id": "46a533fd110e41b9a3c39cf7a718ce01",
       "version_major": 2,
       "version_minor": 0
      },
      "text/plain": [
       "HBox(children=(FloatProgress(value=0.0, description='Evaluating Population', max=136.0, style=ProgressStyle(de…"
      ]
     },
     "metadata": {},
     "output_type": "display_data"
    },
    {
     "name": "stdout",
     "output_type": "stream",
     "text": [
      "\n"
     ]
    },
    {
     "data": {
      "application/vnd.jupyter.widget-view+json": {
       "model_id": "75e0c8830d3d4e369726e3313092cdb0",
       "version_major": 2,
       "version_minor": 0
      },
      "text/plain": [
       "HBox(children=(FloatProgress(value=0.0, description='Evaluating Population', max=136.0, style=ProgressStyle(de…"
      ]
     },
     "metadata": {},
     "output_type": "display_data"
    },
    {
     "name": "stdout",
     "output_type": "stream",
     "text": [
      "\n"
     ]
    },
    {
     "data": {
      "application/vnd.jupyter.widget-view+json": {
       "model_id": "6dce6dab13a74d4d9ad146afdd06469d",
       "version_major": 2,
       "version_minor": 0
      },
      "text/plain": [
       "HBox(children=(FloatProgress(value=0.0, description='Evaluating Population', max=136.0, style=ProgressStyle(de…"
      ]
     },
     "metadata": {},
     "output_type": "display_data"
    },
    {
     "name": "stdout",
     "output_type": "stream",
     "text": [
      "\n"
     ]
    },
    {
     "data": {
      "application/vnd.jupyter.widget-view+json": {
       "model_id": "4392916362134b83ba0800b01524351d",
       "version_major": 2,
       "version_minor": 0
      },
      "text/plain": [
       "HBox(children=(FloatProgress(value=0.0, description='Evaluating Population', max=136.0, style=ProgressStyle(de…"
      ]
     },
     "metadata": {},
     "output_type": "display_data"
    },
    {
     "name": "stdout",
     "output_type": "stream",
     "text": [
      "\n"
     ]
    },
    {
     "data": {
      "application/vnd.jupyter.widget-view+json": {
       "model_id": "ad57b600c6b44f81a8e5a51c79c0edb7",
       "version_major": 2,
       "version_minor": 0
      },
      "text/plain": [
       "HBox(children=(FloatProgress(value=0.0, description='Evaluating Population', max=136.0, style=ProgressStyle(de…"
      ]
     },
     "metadata": {},
     "output_type": "display_data"
    },
    {
     "name": "stdout",
     "output_type": "stream",
     "text": [
      "\n"
     ]
    },
    {
     "data": {
      "application/vnd.jupyter.widget-view+json": {
       "model_id": "d2b04a97a8b9409ca61d678c60b2775e",
       "version_major": 2,
       "version_minor": 0
      },
      "text/plain": [
       "HBox(children=(FloatProgress(value=0.0, description='Evaluating Population', max=136.0, style=ProgressStyle(de…"
      ]
     },
     "metadata": {},
     "output_type": "display_data"
    },
    {
     "name": "stdout",
     "output_type": "stream",
     "text": [
      "\n"
     ]
    },
    {
     "data": {
      "application/vnd.jupyter.widget-view+json": {
       "model_id": "dfef574103084330bd303dcdc91c06d1",
       "version_major": 2,
       "version_minor": 0
      },
      "text/plain": [
       "HBox(children=(FloatProgress(value=0.0, description='Evaluating Population', max=136.0, style=ProgressStyle(de…"
      ]
     },
     "metadata": {},
     "output_type": "display_data"
    },
    {
     "name": "stdout",
     "output_type": "stream",
     "text": [
      "\n"
     ]
    },
    {
     "data": {
      "application/vnd.jupyter.widget-view+json": {
       "model_id": "3221514a68644757bd650a682db8df4b",
       "version_major": 2,
       "version_minor": 0
      },
      "text/plain": [
       "HBox(children=(FloatProgress(value=0.0, description='Evaluating Population', max=136.0, style=ProgressStyle(de…"
      ]
     },
     "metadata": {},
     "output_type": "display_data"
    },
    {
     "name": "stdout",
     "output_type": "stream",
     "text": [
      "\n"
     ]
    },
    {
     "data": {
      "application/vnd.jupyter.widget-view+json": {
       "model_id": "b37e0b37b2694c06b88229829c32e38f",
       "version_major": 2,
       "version_minor": 0
      },
      "text/plain": [
       "HBox(children=(FloatProgress(value=0.0, description='Evaluating Population', max=136.0, style=ProgressStyle(de…"
      ]
     },
     "metadata": {},
     "output_type": "display_data"
    },
    {
     "name": "stdout",
     "output_type": "stream",
     "text": [
      "\n"
     ]
    },
    {
     "data": {
      "application/vnd.jupyter.widget-view+json": {
       "model_id": "1e7768adebfa4f4eb14330a78b7413f0",
       "version_major": 2,
       "version_minor": 0
      },
      "text/plain": [
       "HBox(children=(FloatProgress(value=0.0, description='Evaluating Population', max=136.0, style=ProgressStyle(de…"
      ]
     },
     "metadata": {},
     "output_type": "display_data"
    },
    {
     "name": "stdout",
     "output_type": "stream",
     "text": [
      "\n"
     ]
    },
    {
     "data": {
      "application/vnd.jupyter.widget-view+json": {
       "model_id": "07afbf71dc6f49309c083011f9b9d21d",
       "version_major": 2,
       "version_minor": 0
      },
      "text/plain": [
       "HBox(children=(FloatProgress(value=0.0, description='Evaluating Population', max=136.0, style=ProgressStyle(de…"
      ]
     },
     "metadata": {},
     "output_type": "display_data"
    },
    {
     "name": "stdout",
     "output_type": "stream",
     "text": [
      "\n"
     ]
    },
    {
     "data": {
      "application/vnd.jupyter.widget-view+json": {
       "model_id": "18b3658c7f0e47a89922fdc76d6d3a04",
       "version_major": 2,
       "version_minor": 0
      },
      "text/plain": [
       "HBox(children=(FloatProgress(value=0.0, description='Evaluating Population', max=136.0, style=ProgressStyle(de…"
      ]
     },
     "metadata": {},
     "output_type": "display_data"
    },
    {
     "name": "stdout",
     "output_type": "stream",
     "text": [
      "\n"
     ]
    },
    {
     "data": {
      "application/vnd.jupyter.widget-view+json": {
       "model_id": "598888873053455180100189df1d617d",
       "version_major": 2,
       "version_minor": 0
      },
      "text/plain": [
       "HBox(children=(FloatProgress(value=0.0, description='Evaluating Population', max=136.0, style=ProgressStyle(de…"
      ]
     },
     "metadata": {},
     "output_type": "display_data"
    },
    {
     "name": "stdout",
     "output_type": "stream",
     "text": [
      "\n"
     ]
    },
    {
     "data": {
      "application/vnd.jupyter.widget-view+json": {
       "model_id": "1ef682cde560487ab1aae209cf34a1b5",
       "version_major": 2,
       "version_minor": 0
      },
      "text/plain": [
       "HBox(children=(FloatProgress(value=0.0, description='Evaluating Population', max=136.0, style=ProgressStyle(de…"
      ]
     },
     "metadata": {},
     "output_type": "display_data"
    },
    {
     "name": "stdout",
     "output_type": "stream",
     "text": [
      "\n"
     ]
    },
    {
     "data": {
      "application/vnd.jupyter.widget-view+json": {
       "model_id": "13531f0a151c44b9af692ca2a984e92c",
       "version_major": 2,
       "version_minor": 0
      },
      "text/plain": [
       "HBox(children=(FloatProgress(value=0.0, description='Evaluating Population', max=136.0, style=ProgressStyle(de…"
      ]
     },
     "metadata": {},
     "output_type": "display_data"
    },
    {
     "name": "stdout",
     "output_type": "stream",
     "text": [
      "\n"
     ]
    },
    {
     "data": {
      "application/vnd.jupyter.widget-view+json": {
       "model_id": "21fe16bd31e04f28b319dcd4069d98dc",
       "version_major": 2,
       "version_minor": 0
      },
      "text/plain": [
       "HBox(children=(FloatProgress(value=0.0, description='Evaluating Population', max=136.0, style=ProgressStyle(de…"
      ]
     },
     "metadata": {},
     "output_type": "display_data"
    },
    {
     "name": "stdout",
     "output_type": "stream",
     "text": [
      "\n"
     ]
    },
    {
     "data": {
      "application/vnd.jupyter.widget-view+json": {
       "model_id": "cab604d1d4994e4ba4ca42db9681e066",
       "version_major": 2,
       "version_minor": 0
      },
      "text/plain": [
       "HBox(children=(FloatProgress(value=0.0, description='Evaluating Population', max=136.0, style=ProgressStyle(de…"
      ]
     },
     "metadata": {},
     "output_type": "display_data"
    },
    {
     "name": "stdout",
     "output_type": "stream",
     "text": [
      "\n"
     ]
    },
    {
     "data": {
      "application/vnd.jupyter.widget-view+json": {
       "model_id": "10f9164311454d779b842b123471d9c6",
       "version_major": 2,
       "version_minor": 0
      },
      "text/plain": [
       "HBox(children=(FloatProgress(value=0.0, description='Evaluating Population', max=136.0, style=ProgressStyle(de…"
      ]
     },
     "metadata": {},
     "output_type": "display_data"
    },
    {
     "name": "stdout",
     "output_type": "stream",
     "text": [
      "\n"
     ]
    },
    {
     "data": {
      "application/vnd.jupyter.widget-view+json": {
       "model_id": "cf4ae970911448c28e65f8b971335fb4",
       "version_major": 2,
       "version_minor": 0
      },
      "text/plain": [
       "HBox(children=(FloatProgress(value=0.0, description='Evaluating Population', max=136.0, style=ProgressStyle(de…"
      ]
     },
     "metadata": {},
     "output_type": "display_data"
    },
    {
     "name": "stdout",
     "output_type": "stream",
     "text": [
      "\n"
     ]
    },
    {
     "data": {
      "application/vnd.jupyter.widget-view+json": {
       "model_id": "cf1e8f35f0884c2d9bf502feceae61da",
       "version_major": 2,
       "version_minor": 0
      },
      "text/plain": [
       "HBox(children=(FloatProgress(value=0.0, description='Evaluating Population', max=136.0, style=ProgressStyle(de…"
      ]
     },
     "metadata": {},
     "output_type": "display_data"
    },
    {
     "name": "stdout",
     "output_type": "stream",
     "text": [
      "\n"
     ]
    },
    {
     "data": {
      "application/vnd.jupyter.widget-view+json": {
       "model_id": "b0567063abd1482195b33fbbb0f845be",
       "version_major": 2,
       "version_minor": 0
      },
      "text/plain": [
       "HBox(children=(FloatProgress(value=0.0, description='Evaluating Population', max=136.0, style=ProgressStyle(de…"
      ]
     },
     "metadata": {},
     "output_type": "display_data"
    },
    {
     "name": "stdout",
     "output_type": "stream",
     "text": [
      "\n"
     ]
    },
    {
     "data": {
      "application/vnd.jupyter.widget-view+json": {
       "model_id": "501b386a88a24c088e91f5c96c1fee81",
       "version_major": 2,
       "version_minor": 0
      },
      "text/plain": [
       "HBox(children=(FloatProgress(value=0.0, description='Evaluating Population', max=136.0, style=ProgressStyle(de…"
      ]
     },
     "metadata": {},
     "output_type": "display_data"
    },
    {
     "name": "stdout",
     "output_type": "stream",
     "text": [
      "\n"
     ]
    },
    {
     "data": {
      "application/vnd.jupyter.widget-view+json": {
       "model_id": "2961f2426d4c4b8dab879642e06aa94c",
       "version_major": 2,
       "version_minor": 0
      },
      "text/plain": [
       "HBox(children=(FloatProgress(value=0.0, description='Evaluating Population', max=136.0, style=ProgressStyle(de…"
      ]
     },
     "metadata": {},
     "output_type": "display_data"
    },
    {
     "name": "stdout",
     "output_type": "stream",
     "text": [
      "\n"
     ]
    },
    {
     "data": {
      "application/vnd.jupyter.widget-view+json": {
       "model_id": "b1d9f9ee2216453cb21a171648e5e3fa",
       "version_major": 2,
       "version_minor": 0
      },
      "text/plain": [
       "HBox(children=(FloatProgress(value=0.0, description='Evaluating Population', max=136.0, style=ProgressStyle(de…"
      ]
     },
     "metadata": {},
     "output_type": "display_data"
    },
    {
     "name": "stdout",
     "output_type": "stream",
     "text": [
      "\n"
     ]
    },
    {
     "data": {
      "application/vnd.jupyter.widget-view+json": {
       "model_id": "eac71d9c85b74caf97c2ca4e747f911c",
       "version_major": 2,
       "version_minor": 0
      },
      "text/plain": [
       "HBox(children=(FloatProgress(value=0.0, description='Evaluating Population', max=136.0, style=ProgressStyle(de…"
      ]
     },
     "metadata": {},
     "output_type": "display_data"
    },
    {
     "name": "stdout",
     "output_type": "stream",
     "text": [
      "\n"
     ]
    },
    {
     "data": {
      "application/vnd.jupyter.widget-view+json": {
       "model_id": "0bccb81fe2f1490c81ce9e3fccb242c9",
       "version_major": 2,
       "version_minor": 0
      },
      "text/plain": [
       "HBox(children=(FloatProgress(value=0.0, description='Evaluating Population', max=136.0, style=ProgressStyle(de…"
      ]
     },
     "metadata": {},
     "output_type": "display_data"
    },
    {
     "name": "stdout",
     "output_type": "stream",
     "text": [
      "\n"
     ]
    },
    {
     "data": {
      "application/vnd.jupyter.widget-view+json": {
       "model_id": "779787a739c942969ccc1483360e55f8",
       "version_major": 2,
       "version_minor": 0
      },
      "text/plain": [
       "HBox(children=(FloatProgress(value=0.0, description='Evaluating Population', max=136.0, style=ProgressStyle(de…"
      ]
     },
     "metadata": {},
     "output_type": "display_data"
    },
    {
     "name": "stdout",
     "output_type": "stream",
     "text": [
      "\n"
     ]
    },
    {
     "data": {
      "application/vnd.jupyter.widget-view+json": {
       "model_id": "84f85dc1ebb34a07ac9fe05844b326c0",
       "version_major": 2,
       "version_minor": 0
      },
      "text/plain": [
       "HBox(children=(FloatProgress(value=0.0, description='Evaluating Population', max=136.0, style=ProgressStyle(de…"
      ]
     },
     "metadata": {},
     "output_type": "display_data"
    },
    {
     "name": "stdout",
     "output_type": "stream",
     "text": [
      "\n"
     ]
    },
    {
     "data": {
      "application/vnd.jupyter.widget-view+json": {
       "model_id": "5f327ad974ac449ab6d373ad4470dcc5",
       "version_major": 2,
       "version_minor": 0
      },
      "text/plain": [
       "HBox(children=(FloatProgress(value=0.0, description='Evaluating Population', max=136.0, style=ProgressStyle(de…"
      ]
     },
     "metadata": {},
     "output_type": "display_data"
    },
    {
     "name": "stdout",
     "output_type": "stream",
     "text": [
      "\n"
     ]
    },
    {
     "data": {
      "application/vnd.jupyter.widget-view+json": {
       "model_id": "e31ec5d4d1594e59bb88a3f3fd8dead3",
       "version_major": 2,
       "version_minor": 0
      },
      "text/plain": [
       "HBox(children=(FloatProgress(value=0.0, description='Evaluating Population', max=136.0, style=ProgressStyle(de…"
      ]
     },
     "metadata": {},
     "output_type": "display_data"
    },
    {
     "name": "stdout",
     "output_type": "stream",
     "text": [
      "\n"
     ]
    },
    {
     "data": {
      "application/vnd.jupyter.widget-view+json": {
       "model_id": "44f5fb3e4d5748f5b9a5bfafacba5161",
       "version_major": 2,
       "version_minor": 0
      },
      "text/plain": [
       "HBox(children=(FloatProgress(value=0.0, description='Evaluating Population', max=136.0, style=ProgressStyle(de…"
      ]
     },
     "metadata": {},
     "output_type": "display_data"
    },
    {
     "name": "stdout",
     "output_type": "stream",
     "text": [
      "\n"
     ]
    },
    {
     "data": {
      "application/vnd.jupyter.widget-view+json": {
       "model_id": "2b8919b45dd4478fab4887afc440bf79",
       "version_major": 2,
       "version_minor": 0
      },
      "text/plain": [
       "HBox(children=(FloatProgress(value=0.0, description='Evaluating Population', max=136.0, style=ProgressStyle(de…"
      ]
     },
     "metadata": {},
     "output_type": "display_data"
    },
    {
     "name": "stdout",
     "output_type": "stream",
     "text": [
      "\n"
     ]
    },
    {
     "data": {
      "application/vnd.jupyter.widget-view+json": {
       "model_id": "16b4676302f24fbd8fa142425bbec4a7",
       "version_major": 2,
       "version_minor": 0
      },
      "text/plain": [
       "HBox(children=(FloatProgress(value=0.0, description='Evaluating Population', max=136.0, style=ProgressStyle(de…"
      ]
     },
     "metadata": {},
     "output_type": "display_data"
    },
    {
     "name": "stdout",
     "output_type": "stream",
     "text": [
      "\n"
     ]
    },
    {
     "data": {
      "application/vnd.jupyter.widget-view+json": {
       "model_id": "7d75fbf3d56f4987973d305b9890cd8e",
       "version_major": 2,
       "version_minor": 0
      },
      "text/plain": [
       "HBox(children=(FloatProgress(value=0.0, description='Evaluating Population', max=136.0, style=ProgressStyle(de…"
      ]
     },
     "metadata": {},
     "output_type": "display_data"
    },
    {
     "name": "stdout",
     "output_type": "stream",
     "text": [
      "\n"
     ]
    },
    {
     "data": {
      "application/vnd.jupyter.widget-view+json": {
       "model_id": "09c0980ed4b94bc8992a8a98a37228a7",
       "version_major": 2,
       "version_minor": 0
      },
      "text/plain": [
       "HBox(children=(FloatProgress(value=0.0, description='Evaluating Population', max=136.0, style=ProgressStyle(de…"
      ]
     },
     "metadata": {},
     "output_type": "display_data"
    },
    {
     "name": "stdout",
     "output_type": "stream",
     "text": [
      "\n"
     ]
    },
    {
     "data": {
      "application/vnd.jupyter.widget-view+json": {
       "model_id": "65be3fe56f2446e49aa84f94d9324143",
       "version_major": 2,
       "version_minor": 0
      },
      "text/plain": [
       "HBox(children=(FloatProgress(value=0.0, description='Evaluating Population', max=136.0, style=ProgressStyle(de…"
      ]
     },
     "metadata": {},
     "output_type": "display_data"
    },
    {
     "name": "stdout",
     "output_type": "stream",
     "text": [
      "\n"
     ]
    },
    {
     "data": {
      "application/vnd.jupyter.widget-view+json": {
       "model_id": "5f9fcf31baf24a25bdacba0bfa9f8e74",
       "version_major": 2,
       "version_minor": 0
      },
      "text/plain": [
       "HBox(children=(FloatProgress(value=0.0, description='Evaluating Population', max=136.0, style=ProgressStyle(de…"
      ]
     },
     "metadata": {},
     "output_type": "display_data"
    },
    {
     "name": "stdout",
     "output_type": "stream",
     "text": [
      "\n"
     ]
    },
    {
     "data": {
      "application/vnd.jupyter.widget-view+json": {
       "model_id": "fa7fb0be3995498f8fb5b754d47c5fe2",
       "version_major": 2,
       "version_minor": 0
      },
      "text/plain": [
       "HBox(children=(FloatProgress(value=0.0, description='Evaluating Population', max=136.0, style=ProgressStyle(de…"
      ]
     },
     "metadata": {},
     "output_type": "display_data"
    },
    {
     "name": "stdout",
     "output_type": "stream",
     "text": [
      "\n"
     ]
    },
    {
     "data": {
      "application/vnd.jupyter.widget-view+json": {
       "model_id": "4dc5c860eae540e4a7acc7a9d0babf52",
       "version_major": 2,
       "version_minor": 0
      },
      "text/plain": [
       "HBox(children=(FloatProgress(value=0.0, description='Evaluating Population', max=136.0, style=ProgressStyle(de…"
      ]
     },
     "metadata": {},
     "output_type": "display_data"
    },
    {
     "name": "stdout",
     "output_type": "stream",
     "text": [
      "\n"
     ]
    },
    {
     "data": {
      "application/vnd.jupyter.widget-view+json": {
       "model_id": "d1bef75380c248bf85def458e854109d",
       "version_major": 2,
       "version_minor": 0
      },
      "text/plain": [
       "HBox(children=(FloatProgress(value=0.0, description='Evaluating Population', max=136.0, style=ProgressStyle(de…"
      ]
     },
     "metadata": {},
     "output_type": "display_data"
    },
    {
     "name": "stdout",
     "output_type": "stream",
     "text": [
      "\n"
     ]
    },
    {
     "data": {
      "application/vnd.jupyter.widget-view+json": {
       "model_id": "5a23d5eea54a48fd8e23d848e5bc7fe8",
       "version_major": 2,
       "version_minor": 0
      },
      "text/plain": [
       "HBox(children=(FloatProgress(value=0.0, description='Evaluating Population', max=136.0, style=ProgressStyle(de…"
      ]
     },
     "metadata": {},
     "output_type": "display_data"
    },
    {
     "name": "stdout",
     "output_type": "stream",
     "text": [
      "\n"
     ]
    },
    {
     "data": {
      "application/vnd.jupyter.widget-view+json": {
       "model_id": "b742caf664d44795bc3ebf224c293d83",
       "version_major": 2,
       "version_minor": 0
      },
      "text/plain": [
       "HBox(children=(FloatProgress(value=0.0, description='Evaluating Population', max=136.0, style=ProgressStyle(de…"
      ]
     },
     "metadata": {},
     "output_type": "display_data"
    },
    {
     "name": "stdout",
     "output_type": "stream",
     "text": [
      "\n"
     ]
    },
    {
     "data": {
      "application/vnd.jupyter.widget-view+json": {
       "model_id": "f115961549a446e7be9e2292662d51f2",
       "version_major": 2,
       "version_minor": 0
      },
      "text/plain": [
       "HBox(children=(FloatProgress(value=0.0, description='Evaluating Population', max=136.0, style=ProgressStyle(de…"
      ]
     },
     "metadata": {},
     "output_type": "display_data"
    },
    {
     "name": "stdout",
     "output_type": "stream",
     "text": [
      "\n"
     ]
    },
    {
     "data": {
      "application/vnd.jupyter.widget-view+json": {
       "model_id": "b0188f45aa244f00a0f4e47a7822ca29",
       "version_major": 2,
       "version_minor": 0
      },
      "text/plain": [
       "HBox(children=(FloatProgress(value=0.0, description='Evaluating Population', max=136.0, style=ProgressStyle(de…"
      ]
     },
     "metadata": {},
     "output_type": "display_data"
    },
    {
     "name": "stdout",
     "output_type": "stream",
     "text": [
      "\n"
     ]
    },
    {
     "data": {
      "application/vnd.jupyter.widget-view+json": {
       "model_id": "ed6e4ffe86464b88abd67187d2a1e3e1",
       "version_major": 2,
       "version_minor": 0
      },
      "text/plain": [
       "HBox(children=(FloatProgress(value=0.0, description='Evaluating Population', max=136.0, style=ProgressStyle(de…"
      ]
     },
     "metadata": {},
     "output_type": "display_data"
    },
    {
     "name": "stdout",
     "output_type": "stream",
     "text": [
      "\n"
     ]
    },
    {
     "data": {
      "application/vnd.jupyter.widget-view+json": {
       "model_id": "07687f2d53f54a3099ed39593f230761",
       "version_major": 2,
       "version_minor": 0
      },
      "text/plain": [
       "HBox(children=(FloatProgress(value=0.0, description='Evaluating Population', max=136.0, style=ProgressStyle(de…"
      ]
     },
     "metadata": {},
     "output_type": "display_data"
    },
    {
     "name": "stdout",
     "output_type": "stream",
     "text": [
      "\n"
     ]
    },
    {
     "data": {
      "application/vnd.jupyter.widget-view+json": {
       "model_id": "40107e9f96a7495897e8e71c0b6ed80d",
       "version_major": 2,
       "version_minor": 0
      },
      "text/plain": [
       "HBox(children=(FloatProgress(value=0.0, description='Evaluating Population', max=136.0, style=ProgressStyle(de…"
      ]
     },
     "metadata": {},
     "output_type": "display_data"
    },
    {
     "name": "stdout",
     "output_type": "stream",
     "text": [
      "\n"
     ]
    },
    {
     "data": {
      "application/vnd.jupyter.widget-view+json": {
       "model_id": "f2673f4a80d44007ab996a3e7e33167e",
       "version_major": 2,
       "version_minor": 0
      },
      "text/plain": [
       "HBox(children=(FloatProgress(value=0.0, description='Evaluating Population', max=136.0, style=ProgressStyle(de…"
      ]
     },
     "metadata": {},
     "output_type": "display_data"
    },
    {
     "name": "stdout",
     "output_type": "stream",
     "text": [
      "\n"
     ]
    },
    {
     "data": {
      "application/vnd.jupyter.widget-view+json": {
       "model_id": "2eef2239341f4a10a1aa3c2fc75fe067",
       "version_major": 2,
       "version_minor": 0
      },
      "text/plain": [
       "HBox(children=(FloatProgress(value=0.0, description='Evaluating Population', max=136.0, style=ProgressStyle(de…"
      ]
     },
     "metadata": {},
     "output_type": "display_data"
    },
    {
     "name": "stdout",
     "output_type": "stream",
     "text": [
      "\n",
      "\n"
     ]
    },
    {
     "data": {
      "application/vnd.jupyter.widget-view+json": {
       "model_id": "b7d9e25182f2498cb9ea8061fa9f02eb",
       "version_major": 2,
       "version_minor": 0
      },
      "text/plain": [
       "HBox(children=(FloatProgress(value=0.0, description='Evaluating Population', max=136.0, style=ProgressStyle(de…"
      ]
     },
     "metadata": {},
     "output_type": "display_data"
    },
    {
     "name": "stdout",
     "output_type": "stream",
     "text": [
      "\n"
     ]
    }
   ],
   "source": [
    "generations = run_ga(\n",
    "    epochs=100,\n",
    "    limit=16,\n",
    "#     selection_num_games=10\n",
    ")"
   ]
  },
  {
   "cell_type": "code",
   "execution_count": 104,
   "metadata": {
    "ExecuteTime": {
     "end_time": "2020-03-01T20:06:17.587115Z",
     "start_time": "2020-03-01T20:06:17.583293Z"
    }
   },
   "outputs": [
    {
     "name": "stdout",
     "output_type": "stream",
     "text": [
      "Rule.START\n",
      "└── Rule.BLOCK\n",
      "Rule.START\n",
      "└── Rule.BLOCK\n",
      "Rule.START\n",
      "└── Rule.BLOCK\n",
      "Rule.START\n",
      "└── Rule.BLOCK\n",
      "Rule.START\n",
      "└── Rule.BLOCK\n",
      "    └── Rule.IF_BLOCK\n",
      "        ├── Rule.BOOL_EXP\n",
      "        │   └── Rule.BOOL\n",
      "        │       └── Rule.FUNC_CALL\n",
      "        │           ├── Lib.is_stop_action\n",
      "        │           └── a\n",
      "        └── Rule.IF_BODY\n",
      "            └── Rule.RETURN\n",
      "                └── return a\n",
      "Rule.START\n",
      "└── Rule.BLOCK\n",
      "Rule.START\n",
      "└── Rule.BLOCK\n",
      "Rule.START\n",
      "└── Rule.BLOCK\n",
      "Rule.START\n",
      "└── Rule.BLOCK\n",
      "Rule.START\n",
      "└── Rule.BLOCK\n",
      "Rule.START\n",
      "└── Rule.BLOCK\n",
      "Rule.START\n",
      "└── Rule.BLOCK\n",
      "Rule.START\n",
      "└── Rule.BLOCK\n",
      "Rule.START\n",
      "└── Rule.BLOCK\n",
      "Rule.START\n",
      "└── Rule.BLOCK\n",
      "Rule.START\n",
      "└── Rule.BLOCK\n",
      "Rule.START\n",
      "└── Rule.BLOCK\n"
     ]
    }
   ],
   "source": [
    "for s in generations[-1]:\n",
    "    print_tree(s.tree)"
   ]
  },
  {
   "cell_type": "code",
   "execution_count": 96,
   "metadata": {
    "ExecuteTime": {
     "end_time": "2020-03-01T20:05:06.005767Z",
     "start_time": "2020-03-01T20:04:49.921028Z"
    }
   },
   "outputs": [],
   "source": [
    "results = np.array([eval_population_against_random(gen, 1) for gen in generations])"
   ]
  },
  {
   "cell_type": "code",
   "execution_count": 97,
   "metadata": {
    "ExecuteTime": {
     "end_time": "2020-03-01T20:05:06.009541Z",
     "start_time": "2020-03-01T20:05:06.007468Z"
    }
   },
   "outputs": [],
   "source": [
    "from bokeh.plotting import figure, output_file, show\n",
    "from bokeh.io import output_notebook, output_file, reset_output"
   ]
  },
  {
   "cell_type": "code",
   "execution_count": 99,
   "metadata": {
    "ExecuteTime": {
     "end_time": "2020-03-01T20:05:15.965153Z",
     "start_time": "2020-03-01T20:05:15.932747Z"
    }
   },
   "outputs": [
    {
     "data": {
      "text/html": [
       "\n",
       "    <div class=\"bk-root\">\n",
       "        <a href=\"https://bokeh.org\" target=\"_blank\" class=\"bk-logo bk-logo-small bk-logo-notebook\"></a>\n",
       "        <span id=\"1289\">Loading BokehJS ...</span>\n",
       "    </div>"
      ]
     },
     "metadata": {},
     "output_type": "display_data"
    },
    {
     "data": {
      "application/javascript": [
       "\n",
       "(function(root) {\n",
       "  function now() {\n",
       "    return new Date();\n",
       "  }\n",
       "\n",
       "  var force = true;\n",
       "\n",
       "  if (typeof root._bokeh_onload_callbacks === \"undefined\" || force === true) {\n",
       "    root._bokeh_onload_callbacks = [];\n",
       "    root._bokeh_is_loading = undefined;\n",
       "  }\n",
       "\n",
       "  var JS_MIME_TYPE = 'application/javascript';\n",
       "  var HTML_MIME_TYPE = 'text/html';\n",
       "  var EXEC_MIME_TYPE = 'application/vnd.bokehjs_exec.v0+json';\n",
       "  var CLASS_NAME = 'output_bokeh rendered_html';\n",
       "\n",
       "  /**\n",
       "   * Render data to the DOM node\n",
       "   */\n",
       "  function render(props, node) {\n",
       "    var script = document.createElement(\"script\");\n",
       "    node.appendChild(script);\n",
       "  }\n",
       "\n",
       "  /**\n",
       "   * Handle when an output is cleared or removed\n",
       "   */\n",
       "  function handleClearOutput(event, handle) {\n",
       "    var cell = handle.cell;\n",
       "\n",
       "    var id = cell.output_area._bokeh_element_id;\n",
       "    var server_id = cell.output_area._bokeh_server_id;\n",
       "    // Clean up Bokeh references\n",
       "    if (id != null && id in Bokeh.index) {\n",
       "      Bokeh.index[id].model.document.clear();\n",
       "      delete Bokeh.index[id];\n",
       "    }\n",
       "\n",
       "    if (server_id !== undefined) {\n",
       "      // Clean up Bokeh references\n",
       "      var cmd = \"from bokeh.io.state import curstate; print(curstate().uuid_to_server['\" + server_id + \"'].get_sessions()[0].document.roots[0]._id)\";\n",
       "      cell.notebook.kernel.execute(cmd, {\n",
       "        iopub: {\n",
       "          output: function(msg) {\n",
       "            var id = msg.content.text.trim();\n",
       "            if (id in Bokeh.index) {\n",
       "              Bokeh.index[id].model.document.clear();\n",
       "              delete Bokeh.index[id];\n",
       "            }\n",
       "          }\n",
       "        }\n",
       "      });\n",
       "      // Destroy server and session\n",
       "      var cmd = \"import bokeh.io.notebook as ion; ion.destroy_server('\" + server_id + \"')\";\n",
       "      cell.notebook.kernel.execute(cmd);\n",
       "    }\n",
       "  }\n",
       "\n",
       "  /**\n",
       "   * Handle when a new output is added\n",
       "   */\n",
       "  function handleAddOutput(event, handle) {\n",
       "    var output_area = handle.output_area;\n",
       "    var output = handle.output;\n",
       "\n",
       "    // limit handleAddOutput to display_data with EXEC_MIME_TYPE content only\n",
       "    if ((output.output_type != \"display_data\") || (!output.data.hasOwnProperty(EXEC_MIME_TYPE))) {\n",
       "      return\n",
       "    }\n",
       "\n",
       "    var toinsert = output_area.element.find(\".\" + CLASS_NAME.split(' ')[0]);\n",
       "\n",
       "    if (output.metadata[EXEC_MIME_TYPE][\"id\"] !== undefined) {\n",
       "      toinsert[toinsert.length - 1].firstChild.textContent = output.data[JS_MIME_TYPE];\n",
       "      // store reference to embed id on output_area\n",
       "      output_area._bokeh_element_id = output.metadata[EXEC_MIME_TYPE][\"id\"];\n",
       "    }\n",
       "    if (output.metadata[EXEC_MIME_TYPE][\"server_id\"] !== undefined) {\n",
       "      var bk_div = document.createElement(\"div\");\n",
       "      bk_div.innerHTML = output.data[HTML_MIME_TYPE];\n",
       "      var script_attrs = bk_div.children[0].attributes;\n",
       "      for (var i = 0; i < script_attrs.length; i++) {\n",
       "        toinsert[toinsert.length - 1].firstChild.setAttribute(script_attrs[i].name, script_attrs[i].value);\n",
       "      }\n",
       "      // store reference to server id on output_area\n",
       "      output_area._bokeh_server_id = output.metadata[EXEC_MIME_TYPE][\"server_id\"];\n",
       "    }\n",
       "  }\n",
       "\n",
       "  function register_renderer(events, OutputArea) {\n",
       "\n",
       "    function append_mime(data, metadata, element) {\n",
       "      // create a DOM node to render to\n",
       "      var toinsert = this.create_output_subarea(\n",
       "        metadata,\n",
       "        CLASS_NAME,\n",
       "        EXEC_MIME_TYPE\n",
       "      );\n",
       "      this.keyboard_manager.register_events(toinsert);\n",
       "      // Render to node\n",
       "      var props = {data: data, metadata: metadata[EXEC_MIME_TYPE]};\n",
       "      render(props, toinsert[toinsert.length - 1]);\n",
       "      element.append(toinsert);\n",
       "      return toinsert\n",
       "    }\n",
       "\n",
       "    /* Handle when an output is cleared or removed */\n",
       "    events.on('clear_output.CodeCell', handleClearOutput);\n",
       "    events.on('delete.Cell', handleClearOutput);\n",
       "\n",
       "    /* Handle when a new output is added */\n",
       "    events.on('output_added.OutputArea', handleAddOutput);\n",
       "\n",
       "    /**\n",
       "     * Register the mime type and append_mime function with output_area\n",
       "     */\n",
       "    OutputArea.prototype.register_mime_type(EXEC_MIME_TYPE, append_mime, {\n",
       "      /* Is output safe? */\n",
       "      safe: true,\n",
       "      /* Index of renderer in `output_area.display_order` */\n",
       "      index: 0\n",
       "    });\n",
       "  }\n",
       "\n",
       "  // register the mime type if in Jupyter Notebook environment and previously unregistered\n",
       "  if (root.Jupyter !== undefined) {\n",
       "    var events = require('base/js/events');\n",
       "    var OutputArea = require('notebook/js/outputarea').OutputArea;\n",
       "\n",
       "    if (OutputArea.prototype.mime_types().indexOf(EXEC_MIME_TYPE) == -1) {\n",
       "      register_renderer(events, OutputArea);\n",
       "    }\n",
       "  }\n",
       "\n",
       "  \n",
       "  if (typeof (root._bokeh_timeout) === \"undefined\" || force === true) {\n",
       "    root._bokeh_timeout = Date.now() + 5000;\n",
       "    root._bokeh_failed_load = false;\n",
       "  }\n",
       "\n",
       "  var NB_LOAD_WARNING = {'data': {'text/html':\n",
       "     \"<div style='background-color: #fdd'>\\n\"+\n",
       "     \"<p>\\n\"+\n",
       "     \"BokehJS does not appear to have successfully loaded. If loading BokehJS from CDN, this \\n\"+\n",
       "     \"may be due to a slow or bad network connection. Possible fixes:\\n\"+\n",
       "     \"</p>\\n\"+\n",
       "     \"<ul>\\n\"+\n",
       "     \"<li>re-rerun `output_notebook()` to attempt to load from CDN again, or</li>\\n\"+\n",
       "     \"<li>use INLINE resources instead, as so:</li>\\n\"+\n",
       "     \"</ul>\\n\"+\n",
       "     \"<code>\\n\"+\n",
       "     \"from bokeh.resources import INLINE\\n\"+\n",
       "     \"output_notebook(resources=INLINE)\\n\"+\n",
       "     \"</code>\\n\"+\n",
       "     \"</div>\"}};\n",
       "\n",
       "  function display_loaded() {\n",
       "    var el = document.getElementById(\"1289\");\n",
       "    if (el != null) {\n",
       "      el.textContent = \"BokehJS is loading...\";\n",
       "    }\n",
       "    if (root.Bokeh !== undefined) {\n",
       "      if (el != null) {\n",
       "        el.textContent = \"BokehJS \" + root.Bokeh.version + \" successfully loaded.\";\n",
       "      }\n",
       "    } else if (Date.now() < root._bokeh_timeout) {\n",
       "      setTimeout(display_loaded, 100)\n",
       "    }\n",
       "  }\n",
       "\n",
       "\n",
       "  function run_callbacks() {\n",
       "    try {\n",
       "      root._bokeh_onload_callbacks.forEach(function(callback) {\n",
       "        if (callback != null)\n",
       "          callback();\n",
       "      });\n",
       "    } finally {\n",
       "      delete root._bokeh_onload_callbacks\n",
       "    }\n",
       "    console.debug(\"Bokeh: all callbacks have finished\");\n",
       "  }\n",
       "\n",
       "  function load_libs(css_urls, js_urls, callback) {\n",
       "    if (css_urls == null) css_urls = [];\n",
       "    if (js_urls == null) js_urls = [];\n",
       "\n",
       "    root._bokeh_onload_callbacks.push(callback);\n",
       "    if (root._bokeh_is_loading > 0) {\n",
       "      console.debug(\"Bokeh: BokehJS is being loaded, scheduling callback at\", now());\n",
       "      return null;\n",
       "    }\n",
       "    if (js_urls == null || js_urls.length === 0) {\n",
       "      run_callbacks();\n",
       "      return null;\n",
       "    }\n",
       "    console.debug(\"Bokeh: BokehJS not loaded, scheduling load and callback at\", now());\n",
       "    root._bokeh_is_loading = css_urls.length + js_urls.length;\n",
       "\n",
       "    function on_load() {\n",
       "      root._bokeh_is_loading--;\n",
       "      if (root._bokeh_is_loading === 0) {\n",
       "        console.debug(\"Bokeh: all BokehJS libraries/stylesheets loaded\");\n",
       "        run_callbacks()\n",
       "      }\n",
       "    }\n",
       "\n",
       "    function on_error() {\n",
       "      console.error(\"failed to load \" + url);\n",
       "    }\n",
       "\n",
       "    for (var i = 0; i < css_urls.length; i++) {\n",
       "      var url = css_urls[i];\n",
       "      const element = document.createElement(\"link\");\n",
       "      element.onload = on_load;\n",
       "      element.onerror = on_error;\n",
       "      element.rel = \"stylesheet\";\n",
       "      element.type = \"text/css\";\n",
       "      element.href = url;\n",
       "      console.debug(\"Bokeh: injecting link tag for BokehJS stylesheet: \", url);\n",
       "      document.body.appendChild(element);\n",
       "    }\n",
       "\n",
       "    for (var i = 0; i < js_urls.length; i++) {\n",
       "      var url = js_urls[i];\n",
       "      var element = document.createElement('script');\n",
       "      element.onload = on_load;\n",
       "      element.onerror = on_error;\n",
       "      element.async = false;\n",
       "      element.src = url;\n",
       "      console.debug(\"Bokeh: injecting script tag for BokehJS library: \", url);\n",
       "      document.head.appendChild(element);\n",
       "    }\n",
       "  };var element = document.getElementById(\"1289\");\n",
       "  if (element == null) {\n",
       "    console.error(\"Bokeh: ERROR: autoload.js configured with elementid '1289' but no matching script tag was found. \")\n",
       "    return false;\n",
       "  }\n",
       "\n",
       "  function inject_raw_css(css) {\n",
       "    const element = document.createElement(\"style\");\n",
       "    element.appendChild(document.createTextNode(css));\n",
       "    document.body.appendChild(element);\n",
       "  }\n",
       "\n",
       "  \n",
       "  var js_urls = [\"https://cdn.pydata.org/bokeh/release/bokeh-1.4.0.min.js\", \"https://cdn.pydata.org/bokeh/release/bokeh-widgets-1.4.0.min.js\", \"https://cdn.pydata.org/bokeh/release/bokeh-tables-1.4.0.min.js\", \"https://cdn.pydata.org/bokeh/release/bokeh-gl-1.4.0.min.js\"];\n",
       "  var css_urls = [];\n",
       "  \n",
       "\n",
       "  var inline_js = [\n",
       "    function(Bokeh) {\n",
       "      Bokeh.set_log_level(\"info\");\n",
       "    },\n",
       "    function(Bokeh) {\n",
       "    \n",
       "    \n",
       "    }\n",
       "  ];\n",
       "\n",
       "  function run_inline_js() {\n",
       "    \n",
       "    if (root.Bokeh !== undefined || force === true) {\n",
       "      \n",
       "    for (var i = 0; i < inline_js.length; i++) {\n",
       "      inline_js[i].call(root, root.Bokeh);\n",
       "    }\n",
       "    if (force === true) {\n",
       "        display_loaded();\n",
       "      }} else if (Date.now() < root._bokeh_timeout) {\n",
       "      setTimeout(run_inline_js, 100);\n",
       "    } else if (!root._bokeh_failed_load) {\n",
       "      console.log(\"Bokeh: BokehJS failed to load within specified timeout.\");\n",
       "      root._bokeh_failed_load = true;\n",
       "    } else if (force !== true) {\n",
       "      var cell = $(document.getElementById(\"1289\")).parents('.cell').data().cell;\n",
       "      cell.output_area.append_execute_result(NB_LOAD_WARNING)\n",
       "    }\n",
       "\n",
       "  }\n",
       "\n",
       "  if (root._bokeh_is_loading === 0) {\n",
       "    console.debug(\"Bokeh: BokehJS loaded, going straight to plotting\");\n",
       "    run_inline_js();\n",
       "  } else {\n",
       "    load_libs(css_urls, js_urls, function() {\n",
       "      console.debug(\"Bokeh: BokehJS plotting callback run at\", now());\n",
       "      run_inline_js();\n",
       "    });\n",
       "  }\n",
       "}(window));"
      ],
      "application/vnd.bokehjs_load.v0+json": "\n(function(root) {\n  function now() {\n    return new Date();\n  }\n\n  var force = true;\n\n  if (typeof root._bokeh_onload_callbacks === \"undefined\" || force === true) {\n    root._bokeh_onload_callbacks = [];\n    root._bokeh_is_loading = undefined;\n  }\n\n  \n\n  \n  if (typeof (root._bokeh_timeout) === \"undefined\" || force === true) {\n    root._bokeh_timeout = Date.now() + 5000;\n    root._bokeh_failed_load = false;\n  }\n\n  var NB_LOAD_WARNING = {'data': {'text/html':\n     \"<div style='background-color: #fdd'>\\n\"+\n     \"<p>\\n\"+\n     \"BokehJS does not appear to have successfully loaded. If loading BokehJS from CDN, this \\n\"+\n     \"may be due to a slow or bad network connection. Possible fixes:\\n\"+\n     \"</p>\\n\"+\n     \"<ul>\\n\"+\n     \"<li>re-rerun `output_notebook()` to attempt to load from CDN again, or</li>\\n\"+\n     \"<li>use INLINE resources instead, as so:</li>\\n\"+\n     \"</ul>\\n\"+\n     \"<code>\\n\"+\n     \"from bokeh.resources import INLINE\\n\"+\n     \"output_notebook(resources=INLINE)\\n\"+\n     \"</code>\\n\"+\n     \"</div>\"}};\n\n  function display_loaded() {\n    var el = document.getElementById(\"1289\");\n    if (el != null) {\n      el.textContent = \"BokehJS is loading...\";\n    }\n    if (root.Bokeh !== undefined) {\n      if (el != null) {\n        el.textContent = \"BokehJS \" + root.Bokeh.version + \" successfully loaded.\";\n      }\n    } else if (Date.now() < root._bokeh_timeout) {\n      setTimeout(display_loaded, 100)\n    }\n  }\n\n\n  function run_callbacks() {\n    try {\n      root._bokeh_onload_callbacks.forEach(function(callback) {\n        if (callback != null)\n          callback();\n      });\n    } finally {\n      delete root._bokeh_onload_callbacks\n    }\n    console.debug(\"Bokeh: all callbacks have finished\");\n  }\n\n  function load_libs(css_urls, js_urls, callback) {\n    if (css_urls == null) css_urls = [];\n    if (js_urls == null) js_urls = [];\n\n    root._bokeh_onload_callbacks.push(callback);\n    if (root._bokeh_is_loading > 0) {\n      console.debug(\"Bokeh: BokehJS is being loaded, scheduling callback at\", now());\n      return null;\n    }\n    if (js_urls == null || js_urls.length === 0) {\n      run_callbacks();\n      return null;\n    }\n    console.debug(\"Bokeh: BokehJS not loaded, scheduling load and callback at\", now());\n    root._bokeh_is_loading = css_urls.length + js_urls.length;\n\n    function on_load() {\n      root._bokeh_is_loading--;\n      if (root._bokeh_is_loading === 0) {\n        console.debug(\"Bokeh: all BokehJS libraries/stylesheets loaded\");\n        run_callbacks()\n      }\n    }\n\n    function on_error() {\n      console.error(\"failed to load \" + url);\n    }\n\n    for (var i = 0; i < css_urls.length; i++) {\n      var url = css_urls[i];\n      const element = document.createElement(\"link\");\n      element.onload = on_load;\n      element.onerror = on_error;\n      element.rel = \"stylesheet\";\n      element.type = \"text/css\";\n      element.href = url;\n      console.debug(\"Bokeh: injecting link tag for BokehJS stylesheet: \", url);\n      document.body.appendChild(element);\n    }\n\n    for (var i = 0; i < js_urls.length; i++) {\n      var url = js_urls[i];\n      var element = document.createElement('script');\n      element.onload = on_load;\n      element.onerror = on_error;\n      element.async = false;\n      element.src = url;\n      console.debug(\"Bokeh: injecting script tag for BokehJS library: \", url);\n      document.head.appendChild(element);\n    }\n  };var element = document.getElementById(\"1289\");\n  if (element == null) {\n    console.error(\"Bokeh: ERROR: autoload.js configured with elementid '1289' but no matching script tag was found. \")\n    return false;\n  }\n\n  function inject_raw_css(css) {\n    const element = document.createElement(\"style\");\n    element.appendChild(document.createTextNode(css));\n    document.body.appendChild(element);\n  }\n\n  \n  var js_urls = [\"https://cdn.pydata.org/bokeh/release/bokeh-1.4.0.min.js\", \"https://cdn.pydata.org/bokeh/release/bokeh-widgets-1.4.0.min.js\", \"https://cdn.pydata.org/bokeh/release/bokeh-tables-1.4.0.min.js\", \"https://cdn.pydata.org/bokeh/release/bokeh-gl-1.4.0.min.js\"];\n  var css_urls = [];\n  \n\n  var inline_js = [\n    function(Bokeh) {\n      Bokeh.set_log_level(\"info\");\n    },\n    function(Bokeh) {\n    \n    \n    }\n  ];\n\n  function run_inline_js() {\n    \n    if (root.Bokeh !== undefined || force === true) {\n      \n    for (var i = 0; i < inline_js.length; i++) {\n      inline_js[i].call(root, root.Bokeh);\n    }\n    if (force === true) {\n        display_loaded();\n      }} else if (Date.now() < root._bokeh_timeout) {\n      setTimeout(run_inline_js, 100);\n    } else if (!root._bokeh_failed_load) {\n      console.log(\"Bokeh: BokehJS failed to load within specified timeout.\");\n      root._bokeh_failed_load = true;\n    } else if (force !== true) {\n      var cell = $(document.getElementById(\"1289\")).parents('.cell').data().cell;\n      cell.output_area.append_execute_result(NB_LOAD_WARNING)\n    }\n\n  }\n\n  if (root._bokeh_is_loading === 0) {\n    console.debug(\"Bokeh: BokehJS loaded, going straight to plotting\");\n    run_inline_js();\n  } else {\n    load_libs(css_urls, js_urls, function() {\n      console.debug(\"Bokeh: BokehJS plotting callback run at\", now());\n      run_inline_js();\n    });\n  }\n}(window));"
     },
     "metadata": {},
     "output_type": "display_data"
    },
    {
     "data": {
      "text/html": [
       "\n",
       "\n",
       "\n",
       "\n",
       "\n",
       "\n",
       "  <div class=\"bk-root\" id=\"ac4dde0f-57ff-4fe9-b9f3-db55ccae3d4a\" data-root-id=\"1290\"></div>\n"
      ]
     },
     "metadata": {},
     "output_type": "display_data"
    },
    {
     "data": {
      "application/javascript": [
       "(function(root) {\n",
       "  function embed_document(root) {\n",
       "    \n",
       "  var docs_json = {\"68df331c-a735-404a-b9fc-25cc82724166\":{\"roots\":{\"references\":[{\"attributes\":{\"below\":[{\"id\":\"1301\",\"type\":\"LinearAxis\"}],\"center\":[{\"id\":\"1305\",\"type\":\"Grid\"},{\"id\":\"1310\",\"type\":\"Grid\"}],\"left\":[{\"id\":\"1306\",\"type\":\"LinearAxis\"}],\"renderers\":[{\"id\":\"1327\",\"type\":\"GlyphRenderer\"}],\"title\":{\"id\":\"1291\",\"type\":\"Title\"},\"toolbar\":{\"id\":\"1317\",\"type\":\"Toolbar\"},\"x_range\":{\"id\":\"1293\",\"type\":\"DataRange1d\"},\"x_scale\":{\"id\":\"1297\",\"type\":\"LinearScale\"},\"y_range\":{\"id\":\"1295\",\"type\":\"DataRange1d\"},\"y_scale\":{\"id\":\"1299\",\"type\":\"LinearScale\"}},\"id\":\"1290\",\"subtype\":\"Figure\",\"type\":\"Plot\"},{\"attributes\":{},\"id\":\"1312\",\"type\":\"WheelZoomTool\"},{\"attributes\":{\"active_drag\":\"auto\",\"active_inspect\":\"auto\",\"active_multi\":null,\"active_scroll\":\"auto\",\"active_tap\":\"auto\",\"tools\":[{\"id\":\"1311\",\"type\":\"PanTool\"},{\"id\":\"1312\",\"type\":\"WheelZoomTool\"},{\"id\":\"1313\",\"type\":\"BoxZoomTool\"},{\"id\":\"1314\",\"type\":\"SaveTool\"},{\"id\":\"1315\",\"type\":\"ResetTool\"},{\"id\":\"1316\",\"type\":\"HelpTool\"}]},\"id\":\"1317\",\"type\":\"Toolbar\"},{\"attributes\":{\"line_alpha\":0.1,\"line_color\":\"#1f77b4\",\"line_width\":2,\"x\":{\"field\":\"x\"},\"y\":{\"field\":\"y\"}},\"id\":\"1326\",\"type\":\"Line\"},{\"attributes\":{},\"id\":\"1314\",\"type\":\"SaveTool\"},{\"attributes\":{},\"id\":\"1331\",\"type\":\"BasicTickFormatter\"},{\"attributes\":{\"bottom_units\":\"screen\",\"fill_alpha\":{\"value\":0.5},\"fill_color\":{\"value\":\"lightgrey\"},\"left_units\":\"screen\",\"level\":\"overlay\",\"line_alpha\":{\"value\":1.0},\"line_color\":{\"value\":\"black\"},\"line_dash\":[4,4],\"line_width\":{\"value\":2},\"render_mode\":\"css\",\"right_units\":\"screen\",\"top_units\":\"screen\"},\"id\":\"1336\",\"type\":\"BoxAnnotation\"},{\"attributes\":{\"source\":{\"id\":\"1324\",\"type\":\"ColumnDataSource\"}},\"id\":\"1328\",\"type\":\"CDSView\"},{\"attributes\":{},\"id\":\"1299\",\"type\":\"LinearScale\"},{\"attributes\":{},\"id\":\"1315\",\"type\":\"ResetTool\"},{\"attributes\":{\"line_color\":\"#1f77b4\",\"line_width\":2,\"x\":{\"field\":\"x\"},\"y\":{\"field\":\"y\"}},\"id\":\"1325\",\"type\":\"Line\"},{\"attributes\":{},\"id\":\"1335\",\"type\":\"UnionRenderers\"},{\"attributes\":{},\"id\":\"1316\",\"type\":\"HelpTool\"},{\"attributes\":{\"axis_label\":\"Win Rate\",\"formatter\":{\"id\":\"1331\",\"type\":\"BasicTickFormatter\"},\"ticker\":{\"id\":\"1307\",\"type\":\"BasicTicker\"}},\"id\":\"1306\",\"type\":\"LinearAxis\"},{\"attributes\":{\"callback\":null},\"id\":\"1293\",\"type\":\"DataRange1d\"},{\"attributes\":{},\"id\":\"1297\",\"type\":\"LinearScale\"},{\"attributes\":{\"callback\":null},\"id\":\"1295\",\"type\":\"DataRange1d\"},{\"attributes\":{\"overlay\":{\"id\":\"1336\",\"type\":\"BoxAnnotation\"}},\"id\":\"1313\",\"type\":\"BoxZoomTool\"},{\"attributes\":{\"data_source\":{\"id\":\"1324\",\"type\":\"ColumnDataSource\"},\"glyph\":{\"id\":\"1325\",\"type\":\"Line\"},\"hover_glyph\":null,\"muted_glyph\":null,\"nonselection_glyph\":{\"id\":\"1326\",\"type\":\"Line\"},\"selection_glyph\":null,\"view\":{\"id\":\"1328\",\"type\":\"CDSView\"}},\"id\":\"1327\",\"type\":\"GlyphRenderer\"},{\"attributes\":{\"dimension\":1,\"ticker\":{\"id\":\"1307\",\"type\":\"BasicTicker\"}},\"id\":\"1310\",\"type\":\"Grid\"},{\"attributes\":{\"callback\":null,\"data\":{\"x\":[0,1,2,3,4,5,6,7,8,9,10,11,12,13,14,15,16,17,18,19,20,21,22,23,24,25,26,27,28,29,30,31,32,33,34,35,36,37,38,39,40,41,42,43,44,45,46,47,48,49,50,51,52,53,54,55,56,57,58,59,60,61,62,63,64,65,66,67,68,69,70,71,72,73,74,75,76,77,78,79,80,81,82,83,84,85,86,87,88,89,90,91,92,93,94,95,96,97,98,99,100],\"y\":{\"__ndarray__\":\"AAAAAAAAAAAAAAAAAAAAAB4eHh4eHp4/AAAAAAAAAAAeHh4eHh6ePwAAAAAAAAAAHh4eHh4enj8AAAAAAAAAAAAAAAAAAAAAHh4eHh4enj8AAAAAAAAAAB4eHh4eHp4/AAAAAAAAAAAAAAAAAAAAAAAAAAAAAAAAHh4eHh4enj8AAAAAAAAAAAAAAAAAAAAAAAAAAAAAAAAeHh4eHh6ePwAAAAAAAAAAHh4eHh4enj8eHh4eHh6ePx4eHh4eHp4/AAAAAAAAAAAAAAAAAAAAAAAAAAAAAAAAHh4eHh4erj8eHh4eHh6ePx4eHh4eHp4/AAAAAAAAAAAAAAAAAAAAAAAAAAAAAAAAHh4eHh4enj8AAAAAAAAAAAAAAAAAAAAAHh4eHh4enj8eHh4eHh6ePwAAAAAAAAAAHh4eHh4enj8eHh4eHh6ePx4eHh4eHp4/AAAAAAAAAAAeHh4eHh6ePwAAAAAAAAAAAAAAAAAAAAAAAAAAAAAAAAAAAAAAAAAAAAAAAAAAAAAAAAAAAAAAAAAAAAAAAAAAHh4eHh4enj8AAAAAAAAAAAAAAAAAAAAAHh4eHh4erj8AAAAAAAAAAB4eHh4eHp4/AAAAAAAAAAAAAAAAAAAAAAAAAAAAAAAAAAAAAAAAAAAeHh4eHh6ePx4eHh4eHp4/Hh4eHh4enj8AAAAAAAAAAAAAAAAAAAAAHh4eHh4erj8eHh4eHh6ePx4eHh4eHp4/Hh4eHh4erj8AAAAAAAAAAAAAAAAAAAAAAAAAAAAAAAAAAAAAAAAAAAAAAAAAAAAAHh4eHh4enj8AAAAAAAAAAB4eHh4eHp4/AAAAAAAAAAAAAAAAAAAAAAAAAAAAAAAAAAAAAAAAAAAAAAAAAAAAAAAAAAAAAAAAAAAAAAAAAAAeHh4eHh6ePwAAAAAAAAAAAAAAAAAAAAAeHh4eHh6ePwAAAAAAAAAAAAAAAAAAAAAAAAAAAAAAAAAAAAAAAAAAHh4eHh4enj8AAAAAAAAAAAAAAAAAAAAAHh4eHh4enj8AAAAAAAAAAB4eHh4eHp4/AAAAAAAAAAAeHh4eHh6ePw==\",\"dtype\":\"float64\",\"shape\":[101]}},\"selected\":{\"id\":\"1334\",\"type\":\"Selection\"},\"selection_policy\":{\"id\":\"1335\",\"type\":\"UnionRenderers\"}},\"id\":\"1324\",\"type\":\"ColumnDataSource\"},{\"attributes\":{},\"id\":\"1307\",\"type\":\"BasicTicker\"},{\"attributes\":{},\"id\":\"1302\",\"type\":\"BasicTicker\"},{\"attributes\":{\"ticker\":{\"id\":\"1302\",\"type\":\"BasicTicker\"}},\"id\":\"1305\",\"type\":\"Grid\"},{\"attributes\":{},\"id\":\"1334\",\"type\":\"Selection\"},{\"attributes\":{\"axis_label\":\"generation\",\"formatter\":{\"id\":\"1333\",\"type\":\"BasicTickFormatter\"},\"ticker\":{\"id\":\"1302\",\"type\":\"BasicTicker\"}},\"id\":\"1301\",\"type\":\"LinearAxis\"},{\"attributes\":{\"text\":\"Win Rate Against Random Agent Over Time\"},\"id\":\"1291\",\"type\":\"Title\"},{\"attributes\":{},\"id\":\"1333\",\"type\":\"BasicTickFormatter\"},{\"attributes\":{},\"id\":\"1311\",\"type\":\"PanTool\"}],\"root_ids\":[\"1290\"]},\"title\":\"Bokeh Application\",\"version\":\"1.4.0\"}};\n",
       "  var render_items = [{\"docid\":\"68df331c-a735-404a-b9fc-25cc82724166\",\"roots\":{\"1290\":\"ac4dde0f-57ff-4fe9-b9f3-db55ccae3d4a\"}}];\n",
       "  root.Bokeh.embed.embed_items_notebook(docs_json, render_items);\n",
       "\n",
       "  }\n",
       "  if (root.Bokeh !== undefined) {\n",
       "    embed_document(root);\n",
       "  } else {\n",
       "    var attempts = 0;\n",
       "    var timer = setInterval(function(root) {\n",
       "      if (root.Bokeh !== undefined) {\n",
       "        clearInterval(timer);\n",
       "        embed_document(root);\n",
       "      } else {\n",
       "        attempts++;\n",
       "        if (attempts > 100) {\n",
       "          clearInterval(timer);\n",
       "          console.log(\"Bokeh: ERROR: Unable to run BokehJS code because BokehJS library is missing\");\n",
       "        }\n",
       "      }\n",
       "    }, 10, root)\n",
       "  }\n",
       "})(window);"
      ],
      "application/vnd.bokehjs_exec.v0+json": ""
     },
     "metadata": {
      "application/vnd.bokehjs_exec.v0+json": {
       "id": "1290"
      }
     },
     "output_type": "display_data"
    }
   ],
   "source": [
    "reset_output()\n",
    "output_notebook()\n",
    "\n",
    "x = np.array(list(range(len(results))))\n",
    "y = results\n",
    "\n",
    "p = figure(\n",
    "    title=\"Win Rate Against Random Agent Over Time\",\n",
    "    x_axis_label='generation',\n",
    "    y_axis_label='Win Rate'\n",
    ")\n",
    "\n",
    "p.line(x, y, line_width=2)\n",
    "\n",
    "show(p)"
   ]
  },
  {
   "cell_type": "code",
   "execution_count": 83,
   "metadata": {
    "ExecuteTime": {
     "end_time": "2020-03-01T19:37:12.483692Z",
     "start_time": "2020-03-01T19:37:12.479966Z"
    }
   },
   "outputs": [
    {
     "name": "stdout",
     "output_type": "stream",
     "text": [
      "Rule.START\n",
      "└── Rule.BLOCK\n",
      "    ├── Rule.IF_BLOCK\n",
      "    │   ├── Rule.BOOL_EXP\n",
      "    │   │   └── Rule.AND_EXP\n",
      "    │   │       ├── Rule.BOOL\n",
      "    │   │       │   └── Rule.FUNC_CALL\n",
      "    │   │       │       ├── Lib.number_positions_conquered\n",
      "    │   │       │       ├── state\n",
      "    │   │       │       └── Rule.COLUMN_NUM\n",
      "    │   │       │           └── 6\n",
      "    │   │       └── Rule.BOOL\n",
      "    │   │           └── Rule.FUNC_CALL\n",
      "    │   │               ├── Lib.is_doubles\n",
      "    │   │               └── a\n",
      "    │   └── Rule.IF_BODY\n",
      "    │       └── Rule.RETURN\n",
      "    │           └── return a\n",
      "    └── Rule.IF_BLOCK\n",
      "        ├── Rule.BOOL_EXP\n",
      "        │   └── Rule.BOOL\n",
      "        │       └── Rule.FUNC_CALL\n",
      "        │           ├── Lib.is_stop_action\n",
      "        │           └── a\n",
      "        └── Rule.IF_BODY\n",
      "            └── Rule.RETURN\n",
      "                └── return a\n"
     ]
    }
   ],
   "source": [
    "tree = get_random_tree()\n",
    "print_tree(tree)"
   ]
  },
  {
   "cell_type": "code",
   "execution_count": 100,
   "metadata": {
    "ExecuteTime": {
     "end_time": "2020-03-01T20:05:21.694297Z",
     "start_time": "2020-03-01T20:05:21.690602Z"
    }
   },
   "outputs": [
    {
     "data": {
      "text/plain": [
       "Node('/Rule.START/Rule.BLOCK/Rule.IF_BLOCK/Rule.BOOL_EXP', id_='f50eb184')"
      ]
     },
     "execution_count": 100,
     "metadata": {},
     "output_type": "execute_result"
    }
   ],
   "source": [
    "tree.children[0].children[0].children[0]"
   ]
  },
  {
   "cell_type": "code",
   "execution_count": 101,
   "metadata": {
    "ExecuteTime": {
     "end_time": "2020-03-01T20:05:22.747490Z",
     "start_time": "2020-03-01T20:05:22.744722Z"
    }
   },
   "outputs": [
    {
     "name": "stdout",
     "output_type": "stream",
     "text": [
      "\n",
      "\n",
      "class Script_925d8db5a2e94f449edba30762523a57(Script):\n",
      "    def get_action(self, state):\n",
      "        actions = state.available_moves()\n",
      "        for a in actions:\n",
      "            if ((Lib.number_positions_conquered(self, \"16f2d6ef\", state, 6) and Lib.is_doubles(self, \"309cd956\", a))):\n",
      "                return a\n",
      "            if (Lib.is_stop_action(self, \"9559479a\", a)):\n",
      "                return a\n",
      "            pass\n",
      "        return actions[0]\n",
      "\n"
     ]
    }
   ],
   "source": [
    "print(render_script(tree)[1])"
   ]
  },
  {
   "cell_type": "code",
   "execution_count": null,
   "metadata": {
    "ExecuteTime": {
     "end_time": "2020-03-01T18:54:02.531006Z",
     "start_time": "2020-03-01T18:53:51.077Z"
    }
   },
   "outputs": [],
   "source": [
    "print_tree(mutate(tree))"
   ]
  }
 ],
 "metadata": {
  "hide_input": false,
  "kernelspec": {
   "display_name": "cmput_659_a1",
   "language": "python",
   "name": "cmput_659_a1"
  },
  "language_info": {
   "codemirror_mode": {
    "name": "ipython",
    "version": 3
   },
   "file_extension": ".py",
   "mimetype": "text/x-python",
   "name": "python",
   "nbconvert_exporter": "python",
   "pygments_lexer": "ipython3",
   "version": "3.7.0"
  },
  "toc": {
   "base_numbering": 1,
   "nav_menu": {},
   "number_sections": true,
   "sideBar": true,
   "skip_h1_title": false,
   "title_cell": "Table of Contents",
   "title_sidebar": "Contents",
   "toc_cell": false,
   "toc_position": {},
   "toc_section_display": true,
   "toc_window_display": false
  }
 },
 "nbformat": 4,
 "nbformat_minor": 4
}
